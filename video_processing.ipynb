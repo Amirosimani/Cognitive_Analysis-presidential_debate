{
 "cells": [
  {
   "cell_type": "code",
   "execution_count": 1,
   "metadata": {
    "collapsed": false
   },
   "outputs": [],
   "source": [
    "import cv2\n",
    "import math\n",
    "import numpy as np\n",
    "\n",
    "import boto3\n",
    "import time"
   ]
  },
  {
   "cell_type": "code",
   "execution_count": 2,
   "metadata": {
    "collapsed": false
   },
   "outputs": [
    {
     "name": "stderr",
     "output_type": "stream",
     "text": [
      "/Users/Amiros/anaconda/lib/python3.5/site-packages/IPython/core/magics/extension.py:47: UserWarning: %install_ext` is deprecated, please distribute your extension as a python package.\n",
      "  \"as a python package.\", UserWarning)\n"
     ]
    },
    {
     "name": "stdout",
     "output_type": "stream",
     "text": [
      "Installed autotime.py. To use it, type:\n",
      "  %load_ext autotime\n"
     ]
    }
   ],
   "source": [
    "%install_ext https://raw.github.com/cpcloud/ipython-autotime/master/autotime.py\n",
    "%load_ext autotime"
   ]
  },
  {
   "cell_type": "code",
   "execution_count": 3,
   "metadata": {
    "collapsed": false
   },
   "outputs": [
    {
     "name": "stdout",
     "output_type": "stream",
     "text": [
      "time: 599 ms\n"
     ]
    }
   ],
   "source": [
    "# setting up the file\n",
    "videoFile = '/Users/Amiros/Downloads/trump.mp4'\n",
    "vidcap = cv2.VideoCapture(videoFile)\n",
    "success,image = vidcap.read()\n",
    "\n",
    "# setting up parameters\n",
    "seconds = 1000\n",
    "fps = int(round(vidcap.get(cv2.CAP_PROP_FPS))) # Gets the frames per second\n",
    "total_frames = int(vidcap.get(cv2.CAP_PROP_FRAME_COUNT))\n",
    "duration = (round(total_frames/fps) -1)*1000"
   ]
  },
  {
   "cell_type": "code",
   "execution_count": 5,
   "metadata": {
    "collapsed": false
   },
   "outputs": [
    {
     "data": {
      "text/plain": [
       "16.0"
      ]
     },
     "execution_count": 5,
     "metadata": {},
     "output_type": "execute_result"
    },
    {
     "name": "stdout",
     "output_type": "stream",
     "text": [
      "time: 46.4 ms\n"
     ]
    }
   ],
   "source": [
    "s3 = boto3.resource('s3')\n",
    "duration/60000\n",
    "# mybucket = s3.Bucket('post-election/trump')"
   ]
  },
  {
   "cell_type": "code",
   "execution_count": 12,
   "metadata": {
    "collapsed": false
   },
   "outputs": [
    {
     "name": "stdout",
     "output_type": "stream",
     "text": [
      "time: 730 µs\n"
     ]
    }
   ],
   "source": [
    "                   # Retrieves the frame at the specified second"
   ]
  },
  {
   "cell_type": "code",
   "execution_count": 6,
   "metadata": {
    "collapsed": false
   },
   "outputs": [
    {
     "name": "stdout",
     "output_type": "stream",
     "text": [
      "time: 1min 15s\n"
     ]
    }
   ],
   "source": [
    "#extracting every 'second' of the video\n",
    "for i in range(0, duration, seconds):\n",
    "    vidcap.set(cv2.CAP_PROP_POS_MSEC,i)\n",
    "    success,image = vidcap.read()\n",
    "    j = i/1000\n",
    "    cv2.imwrite(\"trump/acceptance%d.jpg\" % j, image)     # save frame as JPEG file\n",
    "#     time.sleep(0.5)\n",
    "#     s3.meta.client.upload_file('/Users/Amiros/GitHub/debate/trump/acceptance%d.jpg'%j, 'post-election\\\\/trump', 'acceptance%d.jpg'%j)     #upload to S3"
   ]
  },
  {
   "cell_type": "code",
   "execution_count": null,
   "metadata": {
    "collapsed": false
   },
   "outputs": [],
   "source": [
    "# extarcting every frame\n",
    "#count = 0;\n",
    "#while success:\n",
    "#  success,image = vidcap.read()\n",
    "#  if count % multiplier == 0:\n",
    "#      cv2.imwrite(\"debate_frames/frame2%d.jpg\" % count, image)     # save frame as JPEG file\n",
    "#  \n",
    "#  if cv2.waitKey(10) == 27:                     # exit if Escape is hit\n",
    "#      break\n",
    "#  count += 1"
   ]
  }
 ],
 "metadata": {
  "kernelspec": {
   "display_name": "Python 3",
   "language": "python",
   "name": "python3"
  },
  "language_info": {
   "codemirror_mode": {
    "name": "ipython",
    "version": 3
   },
   "file_extension": ".py",
   "mimetype": "text/x-python",
   "name": "python",
   "nbconvert_exporter": "python",
   "pygments_lexer": "ipython3",
   "version": "3.5.2"
  }
 },
 "nbformat": 4,
 "nbformat_minor": 0
}
