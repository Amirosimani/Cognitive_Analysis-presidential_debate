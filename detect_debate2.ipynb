{
 "cells": [
  {
   "cell_type": "code",
   "execution_count": 1,
   "metadata": {
    "collapsed": false
   },
   "outputs": [],
   "source": [
    "import http.client, urllib, requests, urllib.request, urllib.parse, urllib.error, base64\n",
    "import cognitive_face as CF \n",
    "from cognitive_face import util\n",
    "import pandas as pd"
   ]
  },
  {
   "cell_type": "code",
   "execution_count": 2,
   "metadata": {
    "collapsed": false
   },
   "outputs": [
    {
     "name": "stderr",
     "output_type": "stream",
     "text": [
      "/Users/Amiros/anaconda/lib/python3.5/site-packages/IPython/core/magics/extension.py:47: UserWarning: %install_ext` is deprecated, please distribute your extension as a python package.\n",
      "  \"as a python package.\", UserWarning)\n"
     ]
    },
    {
     "name": "stdout",
     "output_type": "stream",
     "text": [
      "Installed autotime.py. To use it, type:\n",
      "  %load_ext autotime\n"
     ]
    }
   ],
   "source": [
    "%install_ext https://raw.github.com/cpcloud/ipython-autotime/master/autotime.py\n",
    "%load_ext autotime"
   ]
  },
  {
   "cell_type": "code",
   "execution_count": null,
   "metadata": {
    "collapsed": true
   },
   "outputs": [],
   "source": [
    "#https://github.com/Microsoft/Cognitive-Face-Python/blob/master/cognitive_face/face_list.py"
   ]
  },
  {
   "cell_type": "code",
   "execution_count": 3,
   "metadata": {
    "collapsed": false
   },
   "outputs": [
    {
     "name": "stdout",
     "output_type": "stream",
     "text": [
      "[{'faceRectangle': {'left': 446, 'top': 66, 'height': 89, 'width': 89}, 'faceId': '72b0193a-88d4-435c-be3b-6beb0e772dcb'}]\n",
      "time: 432 ms\n"
     ]
    }
   ],
   "source": [
    "KEY = 'e3b77a2e317244f2a7198e9387190a64'  \n",
    "CF.Key.set(KEY)\n",
    "\n",
    "img_url = 'https://raw.githubusercontent.com/Microsoft/Cognitive-Face-Windows/master/Data/detection1.jpg'\n",
    "result = CF.face.detect(img_url)\n",
    "print(result)"
   ]
  },
  {
   "cell_type": "code",
   "execution_count": 4,
   "metadata": {
    "collapsed": false
   },
   "outputs": [
    {
     "name": "stdout",
     "output_type": "stream",
     "text": [
      "time: 8.81 ms\n"
     ]
    }
   ],
   "source": [
    "#Create an empty face lis\n",
    "def create_list(face_list_id, name=None, user_data=None):\n",
    "    name = face_list_id if name is None else name\n",
    "    url = 'facelists/{}'.format(face_list_id)\n",
    "    json = {\n",
    "        'name': name,\n",
    "        'userData': user_data,\n",
    "    }\n",
    "\n",
    "    return util.request('PUT', url, json=json)"
   ]
  },
  {
   "cell_type": "code",
   "execution_count": 5,
   "metadata": {
    "collapsed": false
   },
   "outputs": [
    {
     "name": "stdout",
     "output_type": "stream",
     "text": [
      "time: 4.79 ms\n"
     ]
    }
   ],
   "source": [
    "#Add a face to a face list\n",
    "def add_face(image, face_list_id, user_data=None, target_face=None):\n",
    "    url = 'facelists/{}/persistedFaces'.format(face_list_id)\n",
    "    headers, data, json = util.parse_image(image)\n",
    "    params = {\n",
    "        'userData': user_data,\n",
    "        'targetFace': target_face,\n",
    "    }\n",
    "\n",
    "    return util.request('POST', url, headers=headers, params=params, json=json,\n",
    "                        data=data)"
   ]
  },
  {
   "cell_type": "code",
   "execution_count": 6,
   "metadata": {
    "collapsed": false
   },
   "outputs": [
    {
     "name": "stdout",
     "output_type": "stream",
     "text": [
      "status_code: 409\n",
      "response: {\"error\":{\"code\":\"FaceListExists\",\"message\":\"Face list 'h' already exists.\"}}\n"
     ]
    },
    {
     "ename": "CognitiveFaceException",
     "evalue": "Error when calling Cognitive Face API:\n\tstatus_code: 409\n\tcode: FaceListExists\n\tmessage: Face list 'h' already exists.\n",
     "output_type": "error",
     "traceback": [
      "\u001b[0;31m---------------------------------------------------------------------------\u001b[0m",
      "\u001b[0;31mCognitiveFaceException\u001b[0m                    Traceback (most recent call last)",
      "\u001b[0;32m<ipython-input-6-b4a373a4b678>\u001b[0m in \u001b[0;36m<module>\u001b[0;34m()\u001b[0m\n\u001b[1;32m      1\u001b[0m \u001b[0;31m# create Hilalry & Trump lists\u001b[0m\u001b[0;34m\u001b[0m\u001b[0;34m\u001b[0m\u001b[0m\n\u001b[0;32m----> 2\u001b[0;31m \u001b[0mcreate_list\u001b[0m\u001b[0;34m(\u001b[0m\u001b[0;34m\"h\"\u001b[0m\u001b[0;34m,\u001b[0m \u001b[0;34m\"Hillary\"\u001b[0m\u001b[0;34m)\u001b[0m\u001b[0;34m\u001b[0m\u001b[0m\n\u001b[0m\u001b[1;32m      3\u001b[0m \u001b[0mcreate_list\u001b[0m\u001b[0;34m(\u001b[0m\u001b[0;34m\"t\"\u001b[0m\u001b[0;34m,\u001b[0m \u001b[0;34m\"Trump\"\u001b[0m\u001b[0;34m)\u001b[0m\u001b[0;34m\u001b[0m\u001b[0m\n",
      "\u001b[0;32m<ipython-input-4-14fcf4eaeb8a>\u001b[0m in \u001b[0;36mcreate_list\u001b[0;34m(face_list_id, name, user_data)\u001b[0m\n\u001b[1;32m      8\u001b[0m     }\n\u001b[1;32m      9\u001b[0m \u001b[0;34m\u001b[0m\u001b[0m\n\u001b[0;32m---> 10\u001b[0;31m     \u001b[0;32mreturn\u001b[0m \u001b[0mutil\u001b[0m\u001b[0;34m.\u001b[0m\u001b[0mrequest\u001b[0m\u001b[0;34m(\u001b[0m\u001b[0;34m'PUT'\u001b[0m\u001b[0;34m,\u001b[0m \u001b[0murl\u001b[0m\u001b[0;34m,\u001b[0m \u001b[0mjson\u001b[0m\u001b[0;34m=\u001b[0m\u001b[0mjson\u001b[0m\u001b[0;34m)\u001b[0m\u001b[0;34m\u001b[0m\u001b[0m\n\u001b[0m",
      "\u001b[0;32m/Users/Amiros/anaconda/lib/python3.5/site-packages/cognitive_face/util.py\u001b[0m in \u001b[0;36mrequest\u001b[0;34m(method, url, data, json, headers, params)\u001b[0m\n\u001b[1;32m     82\u001b[0m             \u001b[0mresponse\u001b[0m\u001b[0;34m.\u001b[0m\u001b[0mstatus_code\u001b[0m\u001b[0;34m,\u001b[0m\u001b[0;34m\u001b[0m\u001b[0m\n\u001b[1;32m     83\u001b[0m             \u001b[0merror_msg\u001b[0m\u001b[0;34m.\u001b[0m\u001b[0mget\u001b[0m\u001b[0;34m(\u001b[0m\u001b[0;34m'code'\u001b[0m\u001b[0;34m)\u001b[0m\u001b[0;34m,\u001b[0m\u001b[0;34m\u001b[0m\u001b[0m\n\u001b[0;32m---> 84\u001b[0;31m             error_msg.get('message'))\n\u001b[0m\u001b[1;32m     85\u001b[0m \u001b[0;34m\u001b[0m\u001b[0m\n\u001b[1;32m     86\u001b[0m     \u001b[0;31m# Prevent `reponse.json()` complains about empty response.\u001b[0m\u001b[0;34m\u001b[0m\u001b[0;34m\u001b[0m\u001b[0m\n",
      "\u001b[0;31mCognitiveFaceException\u001b[0m: Error when calling Cognitive Face API:\n\tstatus_code: 409\n\tcode: FaceListExists\n\tmessage: Face list 'h' already exists.\n"
     ]
    },
    {
     "name": "stdout",
     "output_type": "stream",
     "text": [
      "time: 816 ms\n"
     ]
    }
   ],
   "source": [
    "# create Hilalry & Trump lists\n",
    "create_list(\"h\", \"Hillary\")\n",
    "create_list(\"t\", \"Trump\")"
   ]
  },
  {
   "cell_type": "code",
   "execution_count": null,
   "metadata": {
    "collapsed": false
   },
   "outputs": [],
   "source": [
    "# Add sample faces to Lists\n",
    "url = []\n",
    "for i in range(2,10):\n",
    "    url = \"https://s3-us-west-2.amazonaws.com/debateinemotion/sample/h/h%d.png\" % i\n",
    "    add_face(url, \"h\")\n",
    "\n",
    "url2 = []\n",
    "for i in range(1,8):\n",
    "    url = \"https://s3-us-west-2.amazonaws.com/debateinemotion/sample/t/t%d.png\" % i\n",
    "    add_face(url, \"t\")"
   ]
  },
  {
   "cell_type": "code",
   "execution_count": 13,
   "metadata": {
    "collapsed": false
   },
   "outputs": [
    {
     "name": "stdout",
     "output_type": "stream",
     "text": [
      "time: 7.85 ms\n"
     ]
    }
   ],
   "source": [
    "# Helper functions \n",
    "\n",
    "## delete faces from a list\n",
    "def delete_face(face_list_id, persisted_face_id):\n",
    "    url = 'facelists/{}/persistedFaces/{}'.format(\n",
    "        face_list_id, persisted_face_id\n",
    "    )\n",
    "    return util.request('DELETE', url)\n",
    "\n",
    "## delete an exsiting face list\n",
    "def delete(face_list_id):\n",
    "    url = 'facelists/{}'.format(face_list_id)\n",
    "    return util.request('DELETE', url)\n",
    "\n",
    "## Retrieve a face list's information, including `face_list_id`, `name`,`user_data` and faces in the face list.\n",
    "def get(face_list_id):\n",
    "    url = 'facelists/{}'.format(face_list_id)\n",
    "    return util.request('GET', url)"
   ]
  },
  {
   "cell_type": "markdown",
   "metadata": {},
   "source": [
    "## Person Groups"
   ]
  },
  {
   "cell_type": "code",
   "execution_count": 22,
   "metadata": {
    "collapsed": false
   },
   "outputs": [
    {
     "name": "stdout",
     "output_type": "stream",
     "text": [
      "time: 12.1 ms\n"
     ]
    }
   ],
   "source": [
    "#Create a person group\n",
    "def create_group(person_group_id, name=None, user_data=None):\n",
    "    \"\"\"Create a new person group with specified `person_group_id`, `name` and\n",
    "    user-provided `user_data`.\n",
    "    Args:\n",
    "        person_group_id: User-provided `person_group_id` as a string. The valid\n",
    "            characters include numbers, English letters in lower case, '-' and\n",
    "            '_'.  The maximum length of the personGroupId is 64.i\n",
    "        name: Person group display name. The maximum length is 128.\n",
    "        user_data: User-provided data attached to the person group. The size\n",
    "            limit is 16KB.\n",
    "    Returns:\n",
    "        An empty response body.\n",
    "    \"\"\"\n",
    "    name = person_group_id if name is None else name\n",
    "    url = 'persongroups/{}'.format(person_group_id)\n",
    "    json = {\n",
    "        'name': name,\n",
    "        'userData': user_data,\n",
    "    }\n",
    "\n",
    "    return util.request('PUT', url, json=json)\n",
    "\n",
    "#Delete person group\n",
    "def delete_person_group(person_group_id):\n",
    "    url = 'persongroups/{}'.format(person_group_id)\n",
    "    return util.request('DELETE', url)\n",
    "\n",
    "#Train a person group\n",
    "def train(person_group_id):\n",
    "    url = 'persongroups/{}/train'.format(person_group_id)\n",
    "    return util.request('POST', url)"
   ]
  },
  {
   "cell_type": "code",
   "execution_count": 34,
   "metadata": {
    "collapsed": false
   },
   "outputs": [
    {
     "name": "stdout",
     "output_type": "stream",
     "text": [
      "time: 1.26 ms\n"
     ]
    }
   ],
   "source": [
    "# creating person groups\n",
    "H_groupId = \"hillary-group\"\n",
    "T_groupId = \"trump-group\"\n",
    "\n",
    "\n",
    "create_group(H_groupId, name = 'HIllary Group')\n",
    "create_group(T_groupId, name = 'Trump Group')"
   ]
  },
  {
   "cell_type": "markdown",
   "metadata": {},
   "source": [
    "## Persons"
   ]
  },
  {
   "cell_type": "code",
   "execution_count": 23,
   "metadata": {
    "collapsed": false
   },
   "outputs": [
    {
     "name": "stdout",
     "output_type": "stream",
     "text": [
      "time: 5.8 ms\n"
     ]
    }
   ],
   "source": [
    "def create_person(person_group_id, name, user_data=None):\n",
    "    \"\"\"Create a new person in a specified person group. A newly created person\n",
    "    have no registered face, you can call `person.add` to add faces to the\n",
    "    person.\n",
    "    Args:\n",
    "        person_group_id: Specifying the person group containing the target\n",
    "            person.\n",
    "        name: Display name of the target person. The maximum length is 128.\n",
    "        user_data: Optional parameter. User-specified data about the face list\n",
    "            for any purpose. The maximum length is 1KB.\n",
    "    Returns:\n",
    "        A new `person_id` created.\n",
    "    \"\"\"\n",
    "    url = 'persongroups/{}/persons'.format(person_group_id)\n",
    "    json = {\n",
    "        'name': name,\n",
    "        'userData': user_data,\n",
    "    }\n",
    "\n",
    "    return util.request('POST', url, json=json)\n"
   ]
  },
  {
   "cell_type": "code",
   "execution_count": 24,
   "metadata": {
    "collapsed": false
   },
   "outputs": [
    {
     "data": {
      "text/plain": [
       "{'personId': '98cee64a-5d5f-46e9-9c77-367de37a23de'}"
      ]
     },
     "execution_count": 24,
     "metadata": {},
     "output_type": "execute_result"
    },
    {
     "name": "stdout",
     "output_type": "stream",
     "text": [
      "time: 1.53 s\n"
     ]
    }
   ],
   "source": [
    "# Creating persons\n",
    "H_personId = create_person(\"hillary-group\",\"hillary_person\")\n",
    "T_personId= create_person(\"trump-group\", \"trump_person\")"
   ]
  },
  {
   "cell_type": "code",
   "execution_count": 25,
   "metadata": {
    "collapsed": false
   },
   "outputs": [
    {
     "name": "stdout",
     "output_type": "stream",
     "text": [
      "time: 7.57 ms\n"
     ]
    }
   ],
   "source": [
    "def add_face(image, person_group_id, person_id, user_data=None,\n",
    "             target_face=None):\n",
    "    url = 'persongroups/{}/persons/{}/persistedFaces'.format(\n",
    "        person_group_id, person_id)\n",
    "    headers, data, json = util.parse_image(image)\n",
    "    params = {\n",
    "        'userData': user_data,\n",
    "        'targetFace': target_face,\n",
    "    }\n",
    "\n",
    "    return util.request('POST', url, headers=headers, params=params, json=json,\n",
    "                        data=data)"
   ]
  },
  {
   "cell_type": "code",
   "execution_count": 31,
   "metadata": {
    "collapsed": false
   },
   "outputs": [
    {
     "name": "stdout",
     "output_type": "stream",
     "text": [
      "time: 905 µs\n"
     ]
    }
   ],
   "source": [
    "# Adding faces to groups\n",
    "image_h = []\n",
    "for i in range(0,10):\n",
    "    image_h = \"https://s3-us-west-2.amazonaws.com/debateinemotion/sample/h/h%d.png\" % i\n",
    "    add_face(image_h, H_groupId, personId)"
   ]
  },
  {
   "cell_type": "code",
   "execution_count": 35,
   "metadata": {
    "collapsed": false
   },
   "outputs": [
    {
     "ename": "TypeError",
     "evalue": "argument should be string, bytes or integer, not list",
     "output_type": "error",
     "traceback": [
      "\u001b[0;31m---------------------------------------------------------------------------\u001b[0m",
      "\u001b[0;31mTypeError\u001b[0m                                 Traceback (most recent call last)",
      "\u001b[0;32m<ipython-input-35-0124412cb746>\u001b[0m in \u001b[0;36m<module>\u001b[0;34m()\u001b[0m\n\u001b[1;32m      2\u001b[0m \u001b[0;32mfor\u001b[0m \u001b[0mi\u001b[0m \u001b[0;32min\u001b[0m \u001b[0mrange\u001b[0m\u001b[0;34m(\u001b[0m\u001b[0;36m1\u001b[0m\u001b[0;34m,\u001b[0m\u001b[0;36m8\u001b[0m\u001b[0;34m)\u001b[0m\u001b[0;34m:\u001b[0m\u001b[0;34m\u001b[0m\u001b[0m\n\u001b[1;32m      3\u001b[0m     \u001b[0mimage_h\u001b[0m \u001b[0;34m=\u001b[0m \u001b[0;34m\"https://s3-us-west-2.amazonaws.com/debateinemotion/sample/t/t%d.png\"\u001b[0m \u001b[0;34m%\u001b[0m \u001b[0mi\u001b[0m\u001b[0;34m\u001b[0m\u001b[0m\n\u001b[0;32m----> 4\u001b[0;31m     \u001b[0madd_face\u001b[0m\u001b[0;34m(\u001b[0m\u001b[0mimage_t\u001b[0m\u001b[0;34m,\u001b[0m \u001b[0mT_groupId\u001b[0m\u001b[0;34m,\u001b[0m \u001b[0mpersonId\u001b[0m\u001b[0;34m)\u001b[0m\u001b[0;34m\u001b[0m\u001b[0m\n\u001b[0m",
      "\u001b[0;32m<ipython-input-25-430c0489e39d>\u001b[0m in \u001b[0;36madd_face\u001b[0;34m(image, person_group_id, person_id, user_data, target_face)\u001b[0m\n\u001b[1;32m     24\u001b[0m     url = 'persongroups/{}/persons/{}/persistedFaces'.format(\n\u001b[1;32m     25\u001b[0m         person_group_id, person_id)\n\u001b[0;32m---> 26\u001b[0;31m     \u001b[0mheaders\u001b[0m\u001b[0;34m,\u001b[0m \u001b[0mdata\u001b[0m\u001b[0;34m,\u001b[0m \u001b[0mjson\u001b[0m \u001b[0;34m=\u001b[0m \u001b[0mutil\u001b[0m\u001b[0;34m.\u001b[0m\u001b[0mparse_image\u001b[0m\u001b[0;34m(\u001b[0m\u001b[0mimage\u001b[0m\u001b[0;34m)\u001b[0m\u001b[0;34m\u001b[0m\u001b[0m\n\u001b[0m\u001b[1;32m     27\u001b[0m     params = {\n\u001b[1;32m     28\u001b[0m         \u001b[0;34m'userData'\u001b[0m\u001b[0;34m:\u001b[0m \u001b[0muser_data\u001b[0m\u001b[0;34m,\u001b[0m\u001b[0;34m\u001b[0m\u001b[0m\n",
      "\u001b[0;32m/Users/Amiros/anaconda/lib/python3.5/site-packages/cognitive_face/util.py\u001b[0m in \u001b[0;36mparse_image\u001b[0;34m(image)\u001b[0m\n\u001b[1;32m    110\u001b[0m         \u001b[0mdata\u001b[0m \u001b[0;34m=\u001b[0m \u001b[0mimage\u001b[0m\u001b[0;34m.\u001b[0m\u001b[0mread\u001b[0m\u001b[0;34m(\u001b[0m\u001b[0;34m)\u001b[0m\u001b[0;34m\u001b[0m\u001b[0m\n\u001b[1;32m    111\u001b[0m         \u001b[0;32mreturn\u001b[0m \u001b[0mheaders\u001b[0m\u001b[0;34m,\u001b[0m \u001b[0mdata\u001b[0m\u001b[0;34m,\u001b[0m \u001b[0;32mNone\u001b[0m\u001b[0;34m\u001b[0m\u001b[0m\n\u001b[0;32m--> 112\u001b[0;31m     \u001b[0;32melif\u001b[0m \u001b[0mos\u001b[0m\u001b[0;34m.\u001b[0m\u001b[0mpath\u001b[0m\u001b[0;34m.\u001b[0m\u001b[0misfile\u001b[0m\u001b[0;34m(\u001b[0m\u001b[0mimage\u001b[0m\u001b[0;34m)\u001b[0m\u001b[0;34m:\u001b[0m  \u001b[0;31m# When image is a file path.\u001b[0m\u001b[0;34m\u001b[0m\u001b[0m\n\u001b[0m\u001b[1;32m    113\u001b[0m         \u001b[0mheaders\u001b[0m \u001b[0;34m=\u001b[0m \u001b[0;34m{\u001b[0m\u001b[0;34m'Content-Type'\u001b[0m\u001b[0;34m:\u001b[0m \u001b[0;34m'application/octet-stream'\u001b[0m\u001b[0;34m}\u001b[0m\u001b[0;34m\u001b[0m\u001b[0m\n\u001b[1;32m    114\u001b[0m         \u001b[0mdata\u001b[0m \u001b[0;34m=\u001b[0m \u001b[0mopen\u001b[0m\u001b[0;34m(\u001b[0m\u001b[0mimage\u001b[0m\u001b[0;34m,\u001b[0m \u001b[0;34m'rb'\u001b[0m\u001b[0;34m)\u001b[0m\u001b[0;34m.\u001b[0m\u001b[0mread\u001b[0m\u001b[0;34m(\u001b[0m\u001b[0;34m)\u001b[0m\u001b[0;34m\u001b[0m\u001b[0m\n",
      "\u001b[0;32m/Users/Amiros/anaconda/lib/python3.5/genericpath.py\u001b[0m in \u001b[0;36misfile\u001b[0;34m(path)\u001b[0m\n\u001b[1;32m     28\u001b[0m     \u001b[0;34m\"\"\"Test whether a path is a regular file\"\"\"\u001b[0m\u001b[0;34m\u001b[0m\u001b[0m\n\u001b[1;32m     29\u001b[0m     \u001b[0;32mtry\u001b[0m\u001b[0;34m:\u001b[0m\u001b[0;34m\u001b[0m\u001b[0m\n\u001b[0;32m---> 30\u001b[0;31m         \u001b[0mst\u001b[0m \u001b[0;34m=\u001b[0m \u001b[0mos\u001b[0m\u001b[0;34m.\u001b[0m\u001b[0mstat\u001b[0m\u001b[0;34m(\u001b[0m\u001b[0mpath\u001b[0m\u001b[0;34m)\u001b[0m\u001b[0;34m\u001b[0m\u001b[0m\n\u001b[0m\u001b[1;32m     31\u001b[0m     \u001b[0;32mexcept\u001b[0m \u001b[0mOSError\u001b[0m\u001b[0;34m:\u001b[0m\u001b[0;34m\u001b[0m\u001b[0m\n\u001b[1;32m     32\u001b[0m         \u001b[0;32mreturn\u001b[0m \u001b[0;32mFalse\u001b[0m\u001b[0;34m\u001b[0m\u001b[0m\n",
      "\u001b[0;31mTypeError\u001b[0m: argument should be string, bytes or integer, not list"
     ]
    },
    {
     "name": "stdout",
     "output_type": "stream",
     "text": [
      "time: 18.4 ms\n"
     ]
    }
   ],
   "source": [
    "image_t = []\n",
    "for i in range(0,8):\n",
    "    image_h = \"https://s3-us-west-2.amazonaws.com/debateinemotion/sample/t/t%d.png\" % i\n",
    "    add_face(image_t, T_groupId, personId)"
   ]
  },
  {
   "cell_type": "code",
   "execution_count": 36,
   "metadata": {
    "collapsed": false
   },
   "outputs": [
    {
     "name": "stdout",
     "output_type": "stream",
     "text": [
      "time: 2.98 ms\n"
     ]
    }
   ],
   "source": [
    "\n",
    "def get_group(person_group_id, person_id):\n",
    "    \"\"\"Retrieve a person's information, including registered persisted faces,\n",
    "    `name` and `user_data`.\n",
    "    Args:\n",
    "        person_group_id: Specifying the person group containing the target\n",
    "            person.\n",
    "        person_id: Specifying the target person.\n",
    "    Returns:\n",
    "        The person's information.\n",
    "    \"\"\"\n",
    "    url = 'persongroups/{}/persons/{}'.format(person_group_id, person_id)\n",
    "\n",
    "    return util.request('GET', url)"
   ]
  },
  {
   "cell_type": "code",
   "execution_count": 37,
   "metadata": {
    "collapsed": false
   },
   "outputs": [
    {
     "data": {
      "text/plain": [
       "{'name': 'hillary_person',\n",
       " 'persistedFaceIds': ['0e0bdaee-f232-4019-9caa-28deb819a2f5',\n",
       "  '31072fd8-a080-4919-be04-afa086394d7d',\n",
       "  '3d66f738-37c9-4bd0-8479-f7245e077e33',\n",
       "  '4ea08476-12d5-4436-b726-82aa21e4480a',\n",
       "  '7c2cfe0e-e330-4cc9-8727-f20c6aaa447e',\n",
       "  '813a597f-2fe2-4ea1-ae99-039e573140d3',\n",
       "  '9ab11012-4b12-41a2-93b2-1bb7a1a0819b',\n",
       "  'a4308af5-ca33-4bfa-b85e-5a82d51c2c6d',\n",
       "  'a7876af6-e524-4f62-b961-d11db25fde94'],\n",
       " 'personId': '98cee64a-5d5f-46e9-9c77-367de37a23de',\n",
       " 'userData': None}"
      ]
     },
     "execution_count": 37,
     "metadata": {},
     "output_type": "execute_result"
    },
    {
     "name": "stdout",
     "output_type": "stream",
     "text": [
      "time: 579 ms\n"
     ]
    }
   ],
   "source": [
    "get_group(H_groupId, H_personId)"
   ]
  },
  {
   "cell_type": "code",
   "execution_count": 38,
   "metadata": {
    "collapsed": false
   },
   "outputs": [
    {
     "name": "stdout",
     "output_type": "stream",
     "text": [
      "time: 689 µs\n"
     ]
    }
   ],
   "source": [
    "## Train"
   ]
  },
  {
   "cell_type": "code",
   "execution_count": 41,
   "metadata": {
    "collapsed": false
   },
   "outputs": [
    {
     "name": "stdout",
     "output_type": "stream",
     "text": [
      "time: 5.47 ms\n"
     ]
    }
   ],
   "source": [
    "def train(person_group_id):\n",
    "    \"\"\"Queue a person group training task, the training task may not be started\n",
    "    immediately.\n",
    "    Args:\n",
    "        person_group_id: Target person group to be trained.\n",
    "    Returns:\n",
    "        An empty JSON body.\n",
    "    \"\"\"\n",
    "    url = 'persongroups/{}/train'.format(person_group_id)\n",
    "\n",
    "    return util.request('POST', url)\n",
    "\n",
    "def get_status(person_group_id):\n",
    "    \"\"\"Retrieve the training status of a person group (completed or ongoing).\n",
    "    Training can be triggered by `person_group.train`. The training will\n",
    "    process for a while on the server side.\n",
    "    Args:\n",
    "        person_group_id: `person_group_id` of the target person group.\n",
    "    Returns:\n",
    "        The person group's training status.\n",
    "    \"\"\"\n",
    "    url = 'persongroups/{}/training'.format(person_group_id)\n",
    "\n",
    "    return util.request('GET', url)"
   ]
  },
  {
   "cell_type": "code",
   "execution_count": 40,
   "metadata": {
    "collapsed": false
   },
   "outputs": [
    {
     "data": {
      "text/plain": [
       "{}"
      ]
     },
     "execution_count": 40,
     "metadata": {},
     "output_type": "execute_result"
    },
    {
     "name": "stdout",
     "output_type": "stream",
     "text": [
      "time: 1.71 s\n"
     ]
    }
   ],
   "source": [
    "train(H_groupId)"
   ]
  },
  {
   "cell_type": "code",
   "execution_count": 42,
   "metadata": {
    "collapsed": false
   },
   "outputs": [
    {
     "data": {
      "text/plain": [
       "{'createdDateTime': '10/12/2016 2:16:41 PM',\n",
       " 'lastActionDateTime': '10/12/2016 2:16:43 PM',\n",
       " 'message': None,\n",
       " 'status': 'succeeded'}"
      ]
     },
     "execution_count": 42,
     "metadata": {},
     "output_type": "execute_result"
    },
    {
     "name": "stdout",
     "output_type": "stream",
     "text": [
      "time: 2.12 s\n"
     ]
    }
   ],
   "source": [
    "get_status(H_groupId)"
   ]
  },
  {
   "cell_type": "code",
   "execution_count": null,
   "metadata": {
    "collapsed": true
   },
   "outputs": [],
   "source": []
  }
 ],
 "metadata": {
  "kernelspec": {
   "display_name": "Python 3",
   "language": "python",
   "name": "python3"
  },
  "language_info": {
   "codemirror_mode": {
    "name": "ipython",
    "version": 3
   },
   "file_extension": ".py",
   "mimetype": "text/x-python",
   "name": "python",
   "nbconvert_exporter": "python",
   "pygments_lexer": "ipython3",
   "version": "3.5.2"
  }
 },
 "nbformat": 4,
 "nbformat_minor": 0
}
