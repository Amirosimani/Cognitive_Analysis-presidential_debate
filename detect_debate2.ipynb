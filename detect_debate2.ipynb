{
 "cells": [
  {
   "cell_type": "code",
   "execution_count": 3,
   "metadata": {
    "collapsed": false
   },
   "outputs": [],
   "source": [
    "import http.client, urllib, requests, urllib.request, urllib.parse, urllib.error, base64\n",
    "import cognitive_face as CF \n",
    "from cognitive_face import util\n",
    "import pandas as pd"
   ]
  },
  {
   "cell_type": "code",
   "execution_count": 4,
   "metadata": {
    "collapsed": false
   },
   "outputs": [
    {
     "name": "stderr",
     "output_type": "stream",
     "text": [
      "/Users/Amiros/anaconda/lib/python3.5/site-packages/IPython/core/magics/extension.py:47: UserWarning: %install_ext` is deprecated, please distribute your extension as a python package.\n",
      "  \"as a python package.\", UserWarning)\n"
     ]
    },
    {
     "name": "stdout",
     "output_type": "stream",
     "text": [
      "Installed autotime.py. To use it, type:\n",
      "  %load_ext autotime\n"
     ]
    }
   ],
   "source": [
    "%install_ext https://raw.github.com/cpcloud/ipython-autotime/master/autotime.py\n",
    "%load_ext autotime"
   ]
  },
  {
   "cell_type": "code",
   "execution_count": 3,
   "metadata": {
    "collapsed": false
   },
   "outputs": [
    {
     "name": "stdout",
     "output_type": "stream",
     "text": [
      "time: 728 µs\n"
     ]
    }
   ],
   "source": [
    "#https://github.com/Microsoft/Cognitive-Face-Python/blob/master/cognitive_face/face_list.py\n",
    "#https://www.microsoft.com/cognitive-services/en-us/face-api/documentation/face-api-how-to-topics/howtoidentifyfacesinimage#step2-2"
   ]
  },
  {
   "cell_type": "code",
   "execution_count": 5,
   "metadata": {
    "collapsed": false
   },
   "outputs": [
    {
     "name": "stdout",
     "output_type": "stream",
     "text": [
      "time: 1.45 ms\n"
     ]
    }
   ],
   "source": [
    "KEY = 'e3b77a2e317244f2a7198e9387190a64'  \n",
    "CF.Key.set(KEY)"
   ]
  },
  {
   "cell_type": "markdown",
   "metadata": {},
   "source": [
    "## Person Groups"
   ]
  },
  {
   "cell_type": "code",
   "execution_count": 6,
   "metadata": {
    "collapsed": false
   },
   "outputs": [
    {
     "name": "stdout",
     "output_type": "stream",
     "text": [
      "time: 32.6 ms\n"
     ]
    }
   ],
   "source": [
    "#Create a person group\n",
    "def create_group(person_group_id, name=None, user_data=None):\n",
    "    name = person_group_id if name is None else name\n",
    "    url = 'persongroups/{}'.format(person_group_id)\n",
    "    json = {\n",
    "        'name': name,\n",
    "        'userData': user_data,\n",
    "    }\n",
    "\n",
    "    return util.request('PUT', url, json=json)\n",
    "\n",
    "#Delete person group\n",
    "def delete_person_group(person_group_id):\n",
    "    url = 'persongroups/{}'.format(person_group_id)\n",
    "    return util.request('DELETE', url)\n",
    "\n",
    "\n",
    "# Lists person groups and their information\n",
    "def lists(start=None, top=None):\n",
    "    url = 'persongroups'\n",
    "    params = {\n",
    "        'start': start,\n",
    "        'top': top,\n",
    "    }\n",
    "\n",
    "    return util.request('GET', url, params=params)\n",
    "\n",
    "\n",
    "#Train a person group\n",
    "def train(person_group_id):\n",
    "    url = 'persongroups/{}/train'.format(person_group_id)\n",
    "    \n",
    "    return util.request('POST', url)\n",
    "\n",
    "\n",
    "#Retrieve the training status of a person group\n",
    "def get_status(person_group_id):\n",
    "    url = 'persongroups/{}/training'.format(person_group_id)\n",
    "\n",
    "    return util.request('GET', url)"
   ]
  },
  {
   "cell_type": "code",
   "execution_count": 6,
   "metadata": {
    "collapsed": false
   },
   "outputs": [
    {
     "data": {
      "text/plain": [
       "{}"
      ]
     },
     "execution_count": 6,
     "metadata": {},
     "output_type": "execute_result"
    },
    {
     "name": "stdout",
     "output_type": "stream",
     "text": [
      "time: 998 ms\n"
     ]
    }
   ],
   "source": [
    "# creating a person group for both candidates\n",
    "Person_group_id = \"candidates\"\n",
    "\n",
    "create_group(Person_group_id, name = 'candidates')"
   ]
  },
  {
   "cell_type": "markdown",
   "metadata": {},
   "source": [
    "## Persons"
   ]
  },
  {
   "cell_type": "code",
   "execution_count": 7,
   "metadata": {
    "collapsed": false
   },
   "outputs": [
    {
     "name": "stdout",
     "output_type": "stream",
     "text": [
      "time: 69.7 ms\n"
     ]
    }
   ],
   "source": [
    "#Create a new person in a group\n",
    "def create_person(person_group_id, name, user_data=None):\n",
    "    \n",
    "    url = 'persongroups/{}/persons'.format(person_group_id)\n",
    "    json = {\n",
    "        'name': name,\n",
    "        'userData': user_data,\n",
    "    }\n",
    "\n",
    "    return util.request('POST', url, json=json)\n",
    "\n",
    "\n",
    "#List all persons in a group\n",
    "def list_persons(person_group_id):\n",
    "\n",
    "    url = 'persongroups/{}/persons'.format(person_group_id)\n",
    "\n",
    "    return util.request('GET', url)\n",
    "\n",
    "\n",
    "#Retrieve a person's information, including registered persisted faces, `name` and `user_data`.\n",
    "def get(person_group_id, person_id):\n",
    "\n",
    "    url = 'persongroups/{}/persons/{}'.format(person_group_id, person_id)\n",
    "\n",
    "    return util.request('GET', url)\n",
    "\n",
    "\n",
    "\n",
    "\n",
    "# Add a representative face to a person for identification.\n",
    "def add_face(image, person_group_id, person_id, user_data=None,\n",
    "             target_face=None):\n",
    "    \n",
    "    url = 'persongroups/{}/persons/{}/persistedFaces'.format(\n",
    "        person_group_id, person_id)\n",
    "    headers, data, json = util.parse_image(image)\n",
    "    params = {\n",
    "        'userData': user_data,\n",
    "        'targetFace': target_face,\n",
    "    }\n",
    "\n",
    "    return util.request('POST', url, headers=headers, params=params, json=json,\n",
    "                        data=data)\n",
    "\n",
    "\n",
    "#Retrieve information about a persisted face \n",
    "def get_face(person_group_id, person_id, persisted_face_id):\n",
    "\n",
    "    url = 'persongroups/{}/persons/{}/persistedFaces/{}'.format(\n",
    "        person_group_id, person_id, persisted_face_id)\n",
    "\n",
    "    return util.request('GET', url)\n",
    "\n",
    "\n",
    "#delete person\n",
    "def delete_person(person_group_id, person_id):\n",
    "\n",
    "    url = 'persongroups/{}/persons/{}'.format(person_group_id, person_id)\n",
    "\n",
    "    return util.request('DELETE', url)"
   ]
  },
  {
   "cell_type": "code",
   "execution_count": 12,
   "metadata": {
    "collapsed": false
   },
   "outputs": [
    {
     "ename": "NameError",
     "evalue": "name 'H_person' is not defined",
     "output_type": "error",
     "traceback": [
      "\u001b[0;31m---------------------------------------------------------------------------\u001b[0m",
      "\u001b[0;31mNameError\u001b[0m                                 Traceback (most recent call last)",
      "\u001b[0;32m<ipython-input-12-a1ff5fc75355>\u001b[0m in \u001b[0;36m<module>\u001b[0;34m()\u001b[0m\n\u001b[1;32m      4\u001b[0m \u001b[0;34m\u001b[0m\u001b[0m\n\u001b[1;32m      5\u001b[0m \u001b[0;31m# get person IDs\u001b[0m\u001b[0;34m\u001b[0m\u001b[0;34m\u001b[0m\u001b[0m\n\u001b[0;32m----> 6\u001b[0;31m \u001b[0mH_personID\u001b[0m \u001b[0;34m=\u001b[0m \u001b[0mH_person\u001b[0m\u001b[0;34m[\u001b[0m\u001b[0;34m'personId'\u001b[0m\u001b[0;34m]\u001b[0m\u001b[0;34m\u001b[0m\u001b[0m\n\u001b[0m\u001b[1;32m      7\u001b[0m \u001b[0mT_personID\u001b[0m \u001b[0;34m=\u001b[0m \u001b[0mT_person\u001b[0m\u001b[0;34m[\u001b[0m\u001b[0;34m'personId'\u001b[0m\u001b[0;34m]\u001b[0m\u001b[0;34m\u001b[0m\u001b[0m\n",
      "\u001b[0;31mNameError\u001b[0m: name 'H_person' is not defined"
     ]
    },
    {
     "name": "stdout",
     "output_type": "stream",
     "text": [
      "time: 9.93 ms\n"
     ]
    }
   ],
   "source": [
    "# Create persons for both candidates\n",
    "#H_person = create_person(Person_group_id,\"hillary\")\n",
    "#T_person= create_person(Person_group_id, \"trump\")\n",
    "\n",
    "# get person IDs\n",
    "H_personID = H_person['personId']\n",
    "T_personID = T_person['personId']"
   ]
  },
  {
   "cell_type": "code",
   "execution_count": 11,
   "metadata": {
    "collapsed": false
   },
   "outputs": [
    {
     "data": {
      "text/plain": [
       "[{'name': 'hillary',\n",
       "  'persistedFaceIds': ['2fce2066-decc-4acd-9e42-7d7a8ed8630a',\n",
       "   '60396af4-1110-4be4-b27d-e88da0a3781a',\n",
       "   '731dc4ab-6ad9-48e1-85ba-4d5cd2c81ad8',\n",
       "   '7c9f5fa8-7497-4de5-85c8-b1aa6a4d47a6',\n",
       "   'a7d20073-4033-4232-a17a-cd169d65bb51',\n",
       "   'c0c620ad-7c9d-4d47-a495-1c8002c5cc69',\n",
       "   'ccb7b9dd-0dac-490c-a29c-3a1f9e582dae',\n",
       "   'd196fde4-f013-4349-8aaf-14513cb44b6b',\n",
       "   'f8a043a2-658a-4e7c-97dd-77e032d900d6',\n",
       "   'fbcaa98a-0094-47a9-84b6-26df1b1e4011'],\n",
       "  'personId': 'ca02317b-b2cf-4544-bcc4-6683d6634f59',\n",
       "  'userData': None},\n",
       " {'name': 'trump',\n",
       "  'persistedFaceIds': ['088d03ca-90fd-4448-ab73-15cfb839e042',\n",
       "   '59d663ff-d48a-4ab8-bd15-a15518fa5beb',\n",
       "   '86118b0d-864b-4450-9b2c-e5698f035af7',\n",
       "   'b9ffa542-7967-4d4e-8e89-fbb62f45c251',\n",
       "   'cd3554c0-6554-4094-aff5-1621ac5c8f8b',\n",
       "   'dae45fa3-f09a-419d-9dc4-11a32da3e295',\n",
       "   'e253a94a-6f91-40d0-bdf2-7256333325b8',\n",
       "   'fd3e8ba1-d441-48e2-a971-ff7d38346f1c'],\n",
       "  'personId': 'fa7e98e2-fac5-4d9d-affd-ebf4bb12bbd2',\n",
       "  'userData': None}]"
      ]
     },
     "execution_count": 11,
     "metadata": {},
     "output_type": "execute_result"
    },
    {
     "name": "stdout",
     "output_type": "stream",
     "text": [
      "time: 673 ms\n"
     ]
    }
   ],
   "source": [
    "list_persons('candidates')"
   ]
  },
  {
   "cell_type": "code",
   "execution_count": 24,
   "metadata": {
    "collapsed": false
   },
   "outputs": [
    {
     "name": "stdout",
     "output_type": "stream",
     "text": [
      "time: 13.8 s\n"
     ]
    }
   ],
   "source": [
    "#Adding face to persons\n",
    "image_t = []\n",
    "for i in range (1,9):\n",
    "    image_t = \"https://s3-us-west-2.amazonaws.com/debateinemotion/sample/t/t%d.png\" % i\n",
    "    add_face(image_t, 'candidates', T_personID)\n",
    "    \n",
    "image_h = []\n",
    "for i in range (1,11):\n",
    "    image_h = \"https://s3-us-west-2.amazonaws.com/debateinemotion/sample/h/h%d.png\" % i\n",
    "    add_face(image_h, 'candidates', H_personID)"
   ]
  },
  {
   "cell_type": "code",
   "execution_count": 13,
   "metadata": {
    "collapsed": false
   },
   "outputs": [
    {
     "data": {
      "text/plain": [
       "{}"
      ]
     },
     "execution_count": 13,
     "metadata": {},
     "output_type": "execute_result"
    },
    {
     "name": "stdout",
     "output_type": "stream",
     "text": [
      "time: 1.28 s\n"
     ]
    }
   ],
   "source": [
    "## Train\n",
    "train('candidates')"
   ]
  },
  {
   "cell_type": "markdown",
   "metadata": {},
   "source": [
    "## Verify candidaites face"
   ]
  },
  {
   "cell_type": "code",
   "execution_count": 14,
   "metadata": {
    "collapsed": false
   },
   "outputs": [
    {
     "name": "stdout",
     "output_type": "stream",
     "text": [
      "time: 5.64 ms\n"
     ]
    }
   ],
   "source": [
    "def detect(image, face_id=True, landmarks=False, faceRectangle= False, attributes='gender'):\n",
    "    \n",
    "    url = 'detect'\n",
    "    headers, data, json = util.parse_image(image)\n",
    "    params = {\n",
    "        'returnFaceId': face_id and 'true' or 'false',\n",
    "        'returnFaceLandmarks': landmarks and 'true' or 'false',\n",
    "        'returnFaceAttributes': attributes,\n",
    "    }\n",
    "\n",
    "    return util.request('POST', url, headers=headers, params=params, json=json,\n",
    "                        data=data)"
   ]
  },
  {
   "cell_type": "code",
   "execution_count": 15,
   "metadata": {
    "collapsed": false
   },
   "outputs": [
    {
     "data": {
      "text/plain": [
       "[{'faceAttributes': {'gender': 'male'},\n",
       "  'faceId': 'ac856689-3314-4baf-93ba-7fa443c576a8',\n",
       "  'faceRectangle': {'height': 142, 'left': 103, 'top': 93, 'width': 142}}]"
      ]
     },
     "execution_count": 15,
     "metadata": {},
     "output_type": "execute_result"
    },
    {
     "name": "stdout",
     "output_type": "stream",
     "text": [
      "time: 352 ms\n"
     ]
    }
   ],
   "source": [
    "detect('https://s3-us-west-2.amazonaws.com/debateinemotion/sample/t/t1.png')"
   ]
  },
  {
   "cell_type": "code",
   "execution_count": null,
   "metadata": {
    "collapsed": true
   },
   "outputs": [],
   "source": [
    "urlImage= ''\n",
    "\n",
    "# Emtional Anlaysis function\n",
    "def similar( json, data, headers, params ):\n",
    "\n",
    "    retries = 0\n",
    "    result = None\n",
    "\n",
    "    while True:\n",
    "\n",
    "        response = requests.request( 'post', _url, json = json, data = data, headers = headers, params = params )\n",
    "\n",
    "        if response.status_code == 429: \n",
    "\n",
    "            print( \"Message: %s\" % ( response.json()['error']['message'] ) )\n",
    "\n",
    "            if retries <= _maxNumRetries: \n",
    "                time.sleep(1) \n",
    "                retries += 1\n",
    "                continue\n",
    "            else: \n",
    "                print( 'Error: failed after retrying!' )\n",
    "                break\n",
    "\n",
    "        elif response.status_code == 200 or response.status_code == 201:\n",
    "\n",
    "            if 'content-length' in response.headers and int(response.headers['content-length']) == 0: \n",
    "                result = None \n",
    "            elif 'content-type' in response.headers and isinstance(response.headers['content-type'], str): \n",
    "                if 'application/json' in response.headers['content-type'].lower(): \n",
    "                    result = response.json() if response.content else None \n",
    "                elif 'image' in response.headers['content-type'].lower(): \n",
    "                    result = response.content\n",
    "        else:\n",
    "            print( \"Error code: %d\" % ( response.status_code ) )\n",
    "            print( \"Message: %s\" % ( response.json()['error']['message'] ) )\n",
    "\n",
    "        break\n",
    "        \n",
    "    return result\n",
    "\n",
    "\n",
    "headers = dict()\n",
    "headers['Ocp-Apim-Subscription-Key'] = _key\n",
    "headers['Content-Type'] = 'application/json' \n",
    "\n",
    "json = { 'url': urlImage } \n",
    "data = None\n",
    "params = None"
   ]
  },
  {
   "cell_type": "code",
   "execution_count": null,
   "metadata": {
    "collapsed": true
   },
   "outputs": [],
   "source": []
  }
 ],
 "metadata": {
  "kernelspec": {
   "display_name": "Python 3",
   "language": "python",
   "name": "python3"
  },
  "language_info": {
   "codemirror_mode": {
    "name": "ipython",
    "version": 3
   },
   "file_extension": ".py",
   "mimetype": "text/x-python",
   "name": "python",
   "nbconvert_exporter": "python",
   "pygments_lexer": "ipython3",
   "version": "3.5.2"
  }
 },
 "nbformat": 4,
 "nbformat_minor": 0
}
