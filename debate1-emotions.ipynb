{
 "cells": [
  {
   "cell_type": "code",
   "execution_count": 1,
   "metadata": {
    "collapsed": false
   },
   "outputs": [],
   "source": [
    "import http.client, urllib, base64, requests\n",
    "import cognitive_face as CF \n",
    "from cognitive_face import util\n",
    "import time"
   ]
  },
  {
   "cell_type": "code",
   "execution_count": 2,
   "metadata": {
    "collapsed": false
   },
   "outputs": [
    {
     "name": "stderr",
     "output_type": "stream",
     "text": [
      "/Users/Amiros/anaconda/lib/python3.5/site-packages/IPython/core/magics/extension.py:47: UserWarning: %install_ext` is deprecated, please distribute your extension as a python package.\n",
      "  \"as a python package.\", UserWarning)\n"
     ]
    },
    {
     "name": "stdout",
     "output_type": "stream",
     "text": [
      "Installed autotime.py. To use it, type:\n",
      "  %load_ext autotime\n"
     ]
    }
   ],
   "source": [
    "%install_ext https://raw.github.com/cpcloud/ipython-autotime/master/autotime.py\n",
    "%load_ext autotime"
   ]
  },
  {
   "cell_type": "code",
   "execution_count": 22,
   "metadata": {
    "collapsed": false
   },
   "outputs": [
    {
     "name": "stdout",
     "output_type": "stream",
     "text": [
      "time: 2.5 ms\n"
     ]
    }
   ],
   "source": [
    "#Emotion Analysis parameters\n",
    "_url = 'https://api.projectoxford.ai/emotion/v1.0/recognize'\n",
    "_key = 'ead17ccf578a40b88f2bb425d11d4a66' #Here you have to paste your primary key\n",
    "_maxNumRetries = 5\n",
    "\n",
    "#Face detection parametrs\n",
    "CF.Key.set('d78211e12bba41a991382ade5d68745b') #set the key"
   ]
  },
  {
   "cell_type": "code",
   "execution_count": 23,
   "metadata": {
    "collapsed": false
   },
   "outputs": [
    {
     "name": "stdout",
     "output_type": "stream",
     "text": [
      "time: 41.7 ms\n"
     ]
    }
   ],
   "source": [
    "# Image path\n",
    "urlImage= ''\n",
    "\n",
    "# Emtional Anlaysis function\n",
    "def processRequest( json, data, headers, params ):\n",
    "\n",
    "    retries = 0\n",
    "    result = None\n",
    "\n",
    "    while True:\n",
    "\n",
    "        response = requests.request( 'post', _url, json = json, data = data, headers = headers, params = params )\n",
    "\n",
    "        if response.status_code == 429: \n",
    "\n",
    "            print( \"Message: %s\" % ( response.json()['error']['message'] ) )\n",
    "\n",
    "            if retries <= _maxNumRetries: \n",
    "                time.sleep(1) \n",
    "                retries += 1\n",
    "                continue\n",
    "            else: \n",
    "                print( 'Error: failed after retrying!' )\n",
    "                break\n",
    "\n",
    "        elif response.status_code == 200 or response.status_code == 201:\n",
    "\n",
    "            if 'content-length' in response.headers and int(response.headers['content-length']) == 0: \n",
    "                result = None \n",
    "            elif 'content-type' in response.headers and isinstance(response.headers['content-type'], str): \n",
    "                if 'application/json' in response.headers['content-type'].lower(): \n",
    "                    result = response.json() if response.content else None \n",
    "                elif 'image' in response.headers['content-type'].lower(): \n",
    "                    result = response.content\n",
    "        else:\n",
    "            print( \"Error code: %d\" % ( response.status_code ) )\n",
    "            print( \"Message: %s\" % ( response.json()['error']['message'] ) )\n",
    "\n",
    "        break\n",
    "        \n",
    "    return result\n",
    "\n",
    "\n",
    "headers = dict()\n",
    "headers['Ocp-Apim-Subscription-Key'] = _key\n",
    "headers['Content-Type'] = 'application/json' \n",
    "\n",
    "json = { 'url': urlImage } \n",
    "data = None\n",
    "params = None"
   ]
  },
  {
   "cell_type": "code",
   "execution_count": 24,
   "metadata": {
    "collapsed": false
   },
   "outputs": [
    {
     "name": "stdout",
     "output_type": "stream",
     "text": [
      "time: 5.19 ms\n"
     ]
    }
   ],
   "source": [
    "# Face detect function\n",
    "def detect(image, face_id=True, landmarks=False, faceRectangle= False, attributes='gender'):\n",
    "    \n",
    "    url = 'detect'\n",
    "    headers, data, json = util.parse_image(image)\n",
    "    params = {\n",
    "        'returnFaceId': face_id and 'true',\n",
    "        'returnFaceLandmarks': landmarks and 'false',\n",
    "        'returnFaceAttributes': attributes,\n",
    "    }\n",
    "\n",
    "    return util.request('POST', url, headers=headers, params=params, json=json,\n",
    "                        data=data)"
   ]
  },
  {
   "cell_type": "code",
   "execution_count": 26,
   "metadata": {
    "collapsed": false
   },
   "outputs": [
    {
     "name": "stdout",
     "output_type": "stream",
     "text": [
      "time: 3.38 ms\n"
     ]
    }
   ],
   "source": [
    "#Get all the frames from S3\n",
    "#start with 355\n",
    "url_list = []\n",
    "for i in range(355,5920,5):\n",
    "    url = \"https://s3-us-west-2.amazonaws.com/debateinemotion/debate1/frame%d.jpg\" % i\n",
    "    url_list.append(url)"
   ]
  },
  {
   "cell_type": "code",
   "execution_count": 27,
   "metadata": {
    "collapsed": false
   },
   "outputs": [
    {
     "name": "stdout",
     "output_type": "stream",
     "text": [
      "status_code: 400\n",
      "response: {\"error\":{\"code\":\"InvalidURL\",\"message\":\"Invalid image URL or error downloading from target server. Remote server error returned: \\\"Response status code does not indicate success: 403 (Forbidden).\\\"\"}}\n",
      "status_code: 400\n",
      "response: {\"error\":{\"code\":\"InvalidURL\",\"message\":\"Invalid image URL or error downloading from target server. Remote server error returned: \\\"Response status code does not indicate success: 403 (Forbidden).\\\"\"}}\n",
      "status_code: 400\n",
      "response: {\"error\":{\"code\":\"InvalidURL\",\"message\":\"Invalid image URL or error downloading from target server. Remote server error returned: \\\"Response status code does not indicate success: 403 (Forbidden).\\\"\"}}\n",
      "status_code: 400\n",
      "response: {\"error\":{\"code\":\"InvalidURL\",\"message\":\"Invalid image URL or error downloading from target server. Remote server error returned: \\\"Response status code does not indicate success: 403 (Forbidden).\\\"\"}}\n",
      "status_code: 400\n",
      "response: {\"error\":{\"code\":\"InvalidURL\",\"message\":\"Invalid image URL or error downloading from target server. Remote server error returned: \\\"Response status code does not indicate success: 403 (Forbidden).\\\"\"}}\n",
      "status_code: 400\n",
      "response: {\"error\":{\"code\":\"InvalidURL\",\"message\":\"Invalid image URL or error downloading from target server. Remote server error returned: \\\"Response status code does not indicate success: 403 (Forbidden).\\\"\"}}\n",
      "status_code: 400\n",
      "response: {\"error\":{\"code\":\"InvalidURL\",\"message\":\"Invalid image URL or error downloading from target server. Remote server error returned: \\\"Response status code does not indicate success: 403 (Forbidden).\\\"\"}}\n",
      "status_code: 400\n",
      "response: {\"error\":{\"code\":\"InvalidURL\",\"message\":\"Invalid image URL or error downloading from target server. Remote server error returned: \\\"Response status code does not indicate success: 403 (Forbidden).\\\"\"}}\n",
      "status_code: 400\n",
      "response: {\"error\":{\"code\":\"InvalidURL\",\"message\":\"Invalid image URL or error downloading from target server. Remote server error returned: \\\"Response status code does not indicate success: 403 (Forbidden).\\\"\"}}\n",
      "status_code: 400\n",
      "response: {\"error\":{\"code\":\"InvalidURL\",\"message\":\"Invalid image URL or error downloading from target server. Remote server error returned: \\\"Response status code does not indicate success: 403 (Forbidden).\\\"\"}}\n",
      "status_code: 400\n",
      "response: {\"error\":{\"code\":\"InvalidURL\",\"message\":\"Invalid image URL or error downloading from target server. Remote server error returned: \\\"Response status code does not indicate success: 403 (Forbidden).\\\"\"}}\n",
      "status_code: 400\n",
      "response: {\"error\":{\"code\":\"InvalidURL\",\"message\":\"Invalid image URL or error downloading from target server. Remote server error returned: \\\"Response status code does not indicate success: 403 (Forbidden).\\\"\"}}\n",
      "status_code: 400\n",
      "response: {\"error\":{\"code\":\"InvalidURL\",\"message\":\"Invalid image URL or error downloading from target server. Remote server error returned: \\\"Response status code does not indicate success: 403 (Forbidden).\\\"\"}}\n",
      "status_code: 400\n",
      "response: {\"error\":{\"code\":\"InvalidURL\",\"message\":\"Invalid image URL or error downloading from target server. Remote server error returned: \\\"Response status code does not indicate success: 403 (Forbidden).\\\"\"}}\n",
      "status_code: 400\n",
      "response: {\"error\":{\"code\":\"InvalidURL\",\"message\":\"Invalid image URL or error downloading from target server. Remote server error returned: \\\"Response status code does not indicate success: 403 (Forbidden).\\\"\"}}\n",
      "status_code: 400\n",
      "response: {\"error\":{\"code\":\"InvalidURL\",\"message\":\"Invalid image URL or error downloading from target server. Remote server error returned: \\\"Response status code does not indicate success: 403 (Forbidden).\\\"\"}}\n",
      "status_code: 400\n",
      "response: {\"error\":{\"code\":\"InvalidURL\",\"message\":\"Invalid image URL or error downloading from target server. Remote server error returned: \\\"Response status code does not indicate success: 403 (Forbidden).\\\"\"}}\n",
      "status_code: 400\n",
      "response: {\"error\":{\"code\":\"InvalidURL\",\"message\":\"Invalid image URL or error downloading from target server. Remote server error returned: \\\"Response status code does not indicate success: 403 (Forbidden).\\\"\"}}\n",
      "status_code: 400\n",
      "response: {\"error\":{\"code\":\"InvalidURL\",\"message\":\"Invalid image URL or error downloading from target server. Remote server error returned: \\\"Response status code does not indicate success: 403 (Forbidden).\\\"\"}}\n",
      "status_code: 400\n",
      "response: {\"error\":{\"code\":\"InvalidURL\",\"message\":\"Invalid image URL or error downloading from target server. Remote server error returned: \\\"Response status code does not indicate success: 403 (Forbidden).\\\"\"}}\n",
      "status_code: 400\n",
      "response: {\"error\":{\"code\":\"InvalidURL\",\"message\":\"Invalid image URL or error downloading from target server. Remote server error returned: \\\"Response status code does not indicate success: 403 (Forbidden).\\\"\"}}\n",
      "status_code: 400\n",
      "response: {\"error\":{\"code\":\"InvalidURL\",\"message\":\"Invalid image URL or error downloading from target server. Remote server error returned: \\\"Response status code does not indicate success: 403 (Forbidden).\\\"\"}}\n",
      "status_code: 400\n",
      "response: {\"error\":{\"code\":\"InvalidURL\",\"message\":\"Invalid image URL or error downloading from target server. Remote server error returned: \\\"Response status code does not indicate success: 403 (Forbidden).\\\"\"}}\n",
      "status_code: 400\n",
      "response: {\"error\":{\"code\":\"InvalidURL\",\"message\":\"Invalid image URL or error downloading from target server. Remote server error returned: \\\"Response status code does not indicate success: 403 (Forbidden).\\\"\"}}\n",
      "status_code: 400\n",
      "response: {\"error\":{\"code\":\"InvalidURL\",\"message\":\"Invalid image URL or error downloading from target server. Remote server error returned: \\\"Response status code does not indicate success: 403 (Forbidden).\\\"\"}}\n",
      "status_code: 400\n",
      "response: {\"error\":{\"code\":\"InvalidURL\",\"message\":\"Invalid image URL or error downloading from target server. Remote server error returned: \\\"Response status code does not indicate success: 403 (Forbidden).\\\"\"}}\n",
      "status_code: 400\n",
      "response: {\"error\":{\"code\":\"InvalidURL\",\"message\":\"Invalid image URL or error downloading from target server. Remote server error returned: \\\"Response status code does not indicate success: 403 (Forbidden).\\\"\"}}\n",
      "status_code: 400\n",
      "response: {\"error\":{\"code\":\"InvalidURL\",\"message\":\"Invalid image URL or error downloading from target server. Remote server error returned: \\\"Response status code does not indicate success: 403 (Forbidden).\\\"\"}}\n",
      "status_code: 400\n",
      "response: {\"error\":{\"code\":\"InvalidURL\",\"message\":\"Invalid image URL or error downloading from target server. Remote server error returned: \\\"Response status code does not indicate success: 403 (Forbidden).\\\"\"}}\n",
      "status_code: 400\n",
      "response: {\"error\":{\"code\":\"InvalidURL\",\"message\":\"Invalid image URL or error downloading from target server. Remote server error returned: \\\"Response status code does not indicate success: 403 (Forbidden).\\\"\"}}\n",
      "status_code: 400\n",
      "response: {\"error\":{\"code\":\"InvalidURL\",\"message\":\"Invalid image URL or error downloading from target server. Remote server error returned: \\\"Response status code does not indicate success: 403 (Forbidden).\\\"\"}}\n",
      "status_code: 400\n",
      "response: {\"error\":{\"code\":\"InvalidURL\",\"message\":\"Invalid image URL or error downloading from target server. Remote server error returned: \\\"Response status code does not indicate success: 403 (Forbidden).\\\"\"}}\n",
      "status_code: 400\n",
      "response: {\"error\":{\"code\":\"InvalidURL\",\"message\":\"Invalid image URL or error downloading from target server. Remote server error returned: \\\"Response status code does not indicate success: 403 (Forbidden).\\\"\"}}\n",
      "status_code: 400\n",
      "response: {\"error\":{\"code\":\"InvalidURL\",\"message\":\"Invalid image URL or error downloading from target server. Remote server error returned: \\\"Response status code does not indicate success: 403 (Forbidden).\\\"\"}}\n",
      "status_code: 400\n",
      "response: {\"error\":{\"code\":\"InvalidURL\",\"message\":\"Invalid image URL or error downloading from target server. Remote server error returned: \\\"Response status code does not indicate success: 403 (Forbidden).\\\"\"}}\n",
      "status_code: 400\n",
      "response: {\"error\":{\"code\":\"InvalidURL\",\"message\":\"Invalid image URL or error downloading from target server. Remote server error returned: \\\"Response status code does not indicate success: 403 (Forbidden).\\\"\"}}\n",
      "status_code: 400\n",
      "response: {\"error\":{\"code\":\"InvalidURL\",\"message\":\"Invalid image URL or error downloading from target server. Remote server error returned: \\\"Response status code does not indicate success: 403 (Forbidden).\\\"\"}}\n",
      "status_code: 400\n",
      "response: {\"error\":{\"code\":\"InvalidURL\",\"message\":\"Invalid image URL or error downloading from target server. Remote server error returned: \\\"Response status code does not indicate success: 403 (Forbidden).\\\"\"}}\n",
      "status_code: 400\n",
      "response: {\"error\":{\"code\":\"InvalidURL\",\"message\":\"Invalid image URL or error downloading from target server. Remote server error returned: \\\"Response status code does not indicate success: 403 (Forbidden).\\\"\"}}\n",
      "status_code: 400\n",
      "response: {\"error\":{\"code\":\"InvalidURL\",\"message\":\"Invalid image URL or error downloading from target server. Remote server error returned: \\\"Response status code does not indicate success: 403 (Forbidden).\\\"\"}}\n",
      "status_code: 400\n",
      "response: {\"error\":{\"code\":\"InvalidURL\",\"message\":\"Invalid image URL or error downloading from target server. Remote server error returned: \\\"Response status code does not indicate success: 403 (Forbidden).\\\"\"}}\n",
      "status_code: 400\n",
      "response: {\"error\":{\"code\":\"InvalidURL\",\"message\":\"Invalid image URL or error downloading from target server. Remote server error returned: \\\"Response status code does not indicate success: 403 (Forbidden).\\\"\"}}\n",
      "status_code: 400\n",
      "response: {\"error\":{\"code\":\"InvalidURL\",\"message\":\"Invalid image URL or error downloading from target server. Remote server error returned: \\\"Response status code does not indicate success: 403 (Forbidden).\\\"\"}}\n",
      "status_code: 400\n",
      "response: {\"error\":{\"code\":\"InvalidURL\",\"message\":\"Invalid image URL or error downloading from target server. Remote server error returned: \\\"Response status code does not indicate success: 403 (Forbidden).\\\"\"}}\n",
      "status_code: 400\n",
      "response: {\"error\":{\"code\":\"InvalidURL\",\"message\":\"Invalid image URL or error downloading from target server. Remote server error returned: \\\"Response status code does not indicate success: 403 (Forbidden).\\\"\"}}\n",
      "status_code: 400\n",
      "response: {\"error\":{\"code\":\"InvalidURL\",\"message\":\"Invalid image URL or error downloading from target server. Remote server error returned: \\\"Response status code does not indicate success: 403 (Forbidden).\\\"\"}}\n",
      "status_code: 400\n",
      "response: {\"error\":{\"code\":\"InvalidURL\",\"message\":\"Invalid image URL or error downloading from target server. Remote server error returned: \\\"Response status code does not indicate success: 403 (Forbidden).\\\"\"}}\n",
      "status_code: 400\n",
      "response: {\"error\":{\"code\":\"InvalidURL\",\"message\":\"Invalid image URL or error downloading from target server. Remote server error returned: \\\"Response status code does not indicate success: 403 (Forbidden).\\\"\"}}\n",
      "status_code: 400\n",
      "response: {\"error\":{\"code\":\"InvalidURL\",\"message\":\"Invalid image URL or error downloading from target server. Remote server error returned: \\\"Response status code does not indicate success: 403 (Forbidden).\\\"\"}}\n",
      "status_code: 400\n",
      "response: {\"error\":{\"code\":\"InvalidURL\",\"message\":\"Invalid image URL or error downloading from target server. Remote server error returned: \\\"Response status code does not indicate success: 403 (Forbidden).\\\"\"}}\n",
      "status_code: 400\n",
      "response: {\"error\":{\"code\":\"InvalidURL\",\"message\":\"Invalid image URL or error downloading from target server. Remote server error returned: \\\"Response status code does not indicate success: 403 (Forbidden).\\\"\"}}\n",
      "status_code: 400\n",
      "response: {\"error\":{\"code\":\"InvalidURL\",\"message\":\"Invalid image URL or error downloading from target server. Remote server error returned: \\\"Response status code does not indicate success: 403 (Forbidden).\\\"\"}}\n",
      "status_code: 400\n",
      "response: {\"error\":{\"code\":\"InvalidURL\",\"message\":\"Invalid image URL or error downloading from target server. Remote server error returned: \\\"Response status code does not indicate success: 403 (Forbidden).\\\"\"}}\n",
      "status_code: 400\n",
      "response: {\"error\":{\"code\":\"InvalidURL\",\"message\":\"Invalid image URL or error downloading from target server. Remote server error returned: \\\"Response status code does not indicate success: 403 (Forbidden).\\\"\"}}\n",
      "status_code: 400\n",
      "response: {\"error\":{\"code\":\"InvalidURL\",\"message\":\"Invalid image URL or error downloading from target server. Remote server error returned: \\\"Response status code does not indicate success: 403 (Forbidden).\\\"\"}}\n",
      "status_code: 400\n",
      "response: {\"error\":{\"code\":\"InvalidURL\",\"message\":\"Invalid image URL or error downloading from target server. Remote server error returned: \\\"Response status code does not indicate success: 403 (Forbidden).\\\"\"}}\n",
      "status_code: 400\n",
      "response: {\"error\":{\"code\":\"InvalidURL\",\"message\":\"Invalid image URL or error downloading from target server. Remote server error returned: \\\"Response status code does not indicate success: 403 (Forbidden).\\\"\"}}\n",
      "time: 1h 47min 53s\n"
     ]
    }
   ],
   "source": [
    "# Face Detection & Emotion Analysis - UPDATED\n",
    "processed = {}\n",
    "face_detection = {}\n",
    "count = 355\n",
    "#355\n",
    "\n",
    "for single_image in url_list:\n",
    " \n",
    "    try:\n",
    "        face_detection[count] = detect(single_image)\n",
    "\n",
    "        json = { 'url': single_image } \n",
    "        processed[count] = processRequest(json, data, headers, params)  \n",
    "    except:\n",
    "        pass\n",
    "\n",
    "    try:\n",
    "        if face_detection[count][0]['faceRectangle'] == processed[count][0]['faceRectangle']:\n",
    "            face_detection[count][0].update(processed[count][0])\n",
    "            face_detection[count][1].update(processed[count][1])\n",
    "        if  face_detection[count][0]['faceRectangle'] == processed[count][1]['faceRectangle']:\n",
    "            face_detection[count][0].update(processed[count][1])\n",
    "            face_detection[count][1].update(processed[count][0])\n",
    "    except:\n",
    "        pass\n",
    "    \n",
    "    count += 5\n",
    "    \n",
    "    time.sleep(3)"
   ]
  },
  {
   "cell_type": "code",
   "execution_count": 31,
   "metadata": {
    "collapsed": false
   },
   "outputs": [
    {
     "data": {
      "text/plain": [
       "1056"
      ]
     },
     "execution_count": 31,
     "metadata": {},
     "output_type": "execute_result"
    },
    {
     "name": "stdout",
     "output_type": "stream",
     "text": [
      "time: 3.16 ms\n"
     ]
    }
   ],
   "source": [
    "len(face_detection)"
   ]
  },
  {
   "cell_type": "code",
   "execution_count": 29,
   "metadata": {
    "collapsed": false
   },
   "outputs": [
    {
     "name": "stdout",
     "output_type": "stream",
     "text": [
      "time: 252 ms\n"
     ]
    }
   ],
   "source": [
    "# Save the result as Json\n",
    "import json\n",
    "with open('debate1_full.json', 'w') as fp:\n",
    "    json.dump(face_detection, fp, sort_keys=True)"
   ]
  },
  {
   "cell_type": "code",
   "execution_count": null,
   "metadata": {
    "collapsed": true
   },
   "outputs": [],
   "source": []
  }
 ],
 "metadata": {
  "kernelspec": {
   "display_name": "Python 3",
   "language": "python",
   "name": "python3"
  },
  "language_info": {
   "codemirror_mode": {
    "name": "ipython",
    "version": 3
   },
   "file_extension": ".py",
   "mimetype": "text/x-python",
   "name": "python",
   "nbconvert_exporter": "python",
   "pygments_lexer": "ipython3",
   "version": "3.5.2"
  }
 },
 "nbformat": 4,
 "nbformat_minor": 0
}
