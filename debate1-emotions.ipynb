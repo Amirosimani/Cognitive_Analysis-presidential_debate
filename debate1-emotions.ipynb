{
 "cells": [
  {
   "cell_type": "code",
   "execution_count": 1,
   "metadata": {
    "collapsed": false
   },
   "outputs": [],
   "source": [
    "import http.client, urllib, base64, requests\n",
    "import cognitive_face as CF \n",
    "from cognitive_face import util\n",
    "import time"
   ]
  },
  {
   "cell_type": "code",
   "execution_count": 2,
   "metadata": {
    "collapsed": false
   },
   "outputs": [
    {
     "name": "stderr",
     "output_type": "stream",
     "text": [
      "/Users/Amiros/anaconda/lib/python3.5/site-packages/IPython/core/magics/extension.py:47: UserWarning: %install_ext` is deprecated, please distribute your extension as a python package.\n",
      "  \"as a python package.\", UserWarning)\n"
     ]
    },
    {
     "name": "stdout",
     "output_type": "stream",
     "text": [
      "Installed autotime.py. To use it, type:\n",
      "  %load_ext autotime\n"
     ]
    }
   ],
   "source": [
    "%install_ext https://raw.github.com/cpcloud/ipython-autotime/master/autotime.py\n",
    "%load_ext autotime"
   ]
  },
  {
   "cell_type": "code",
   "execution_count": 3,
   "metadata": {
    "collapsed": false
   },
   "outputs": [
    {
     "name": "stdout",
     "output_type": "stream",
     "text": [
      "time: 3.64 ms\n"
     ]
    }
   ],
   "source": [
    "#Emotion Analysis parameters\n",
    "_url = 'https://api.projectoxford.ai/emotion/v1.0/recognize'\n",
    "_key = 'ead17ccf578a40b88f2bb425d11d4a66' #Here you have to paste your primary key\n",
    "_maxNumRetries = 5\n",
    "\n",
    "#Face detection parametrs\n",
    "CF.Key.set('d78211e12bba41a991382ade5d68745b') #set the key"
   ]
  },
  {
   "cell_type": "code",
   "execution_count": 4,
   "metadata": {
    "collapsed": false
   },
   "outputs": [
    {
     "name": "stdout",
     "output_type": "stream",
     "text": [
      "time: 70.5 ms\n"
     ]
    }
   ],
   "source": [
    "# Image path\n",
    "urlImage= ''\n",
    "\n",
    "# Emtional Anlaysis function\n",
    "def processRequest( json, data, headers, params ):\n",
    "\n",
    "    retries = 0\n",
    "    result = None\n",
    "\n",
    "    while True:\n",
    "\n",
    "        response = requests.request( 'post', _url, json = json, data = data, headers = headers, params = params )\n",
    "\n",
    "        if response.status_code == 429: \n",
    "\n",
    "            print( \"Message: %s\" % ( response.json()['error']['message'] ) )\n",
    "\n",
    "            if retries <= _maxNumRetries: \n",
    "                time.sleep(1) \n",
    "                retries += 1\n",
    "                continue\n",
    "            else: \n",
    "                print( 'Error: failed after retrying!' )\n",
    "                break\n",
    "\n",
    "        elif response.status_code == 200 or response.status_code == 201:\n",
    "\n",
    "            if 'content-length' in response.headers and int(response.headers['content-length']) == 0: \n",
    "                result = None \n",
    "            elif 'content-type' in response.headers and isinstance(response.headers['content-type'], str): \n",
    "                if 'application/json' in response.headers['content-type'].lower(): \n",
    "                    result = response.json() if response.content else None \n",
    "                elif 'image' in response.headers['content-type'].lower(): \n",
    "                    result = response.content\n",
    "        else:\n",
    "            print( \"Error code: %d\" % ( response.status_code ) )\n",
    "            print( \"Message: %s\" % ( response.json()['error']['message'] ) )\n",
    "\n",
    "        break\n",
    "        \n",
    "    return result\n",
    "\n",
    "\n",
    "headers = dict()\n",
    "headers['Ocp-Apim-Subscription-Key'] = _key\n",
    "headers['Content-Type'] = 'application/json' \n",
    "\n",
    "json = { 'url': urlImage } \n",
    "data = None\n",
    "params = None"
   ]
  },
  {
   "cell_type": "code",
   "execution_count": 5,
   "metadata": {
    "collapsed": false
   },
   "outputs": [
    {
     "name": "stdout",
     "output_type": "stream",
     "text": [
      "time: 9.92 ms\n"
     ]
    }
   ],
   "source": [
    "# Face detect function\n",
    "def detect(image, face_id=True, landmarks=False, faceRectangle= False, attributes='gender'):\n",
    "    \n",
    "    url = 'detect'\n",
    "    headers, data, json = util.parse_image(image)\n",
    "    params = {\n",
    "        'returnFaceId': face_id and 'true',\n",
    "        'returnFaceLandmarks': landmarks and 'false',\n",
    "        'returnFaceAttributes': attributes,\n",
    "    }\n",
    "\n",
    "    return util.request('POST', url, headers=headers, params=params, json=json,\n",
    "                        data=data)"
   ]
  },
  {
   "cell_type": "code",
   "execution_count": 6,
   "metadata": {
    "collapsed": false
   },
   "outputs": [
    {
     "name": "stdout",
     "output_type": "stream",
     "text": [
      "time: 5.1 ms\n"
     ]
    }
   ],
   "source": [
    "#Get all the frames from S3\n",
    "#start with 355\n",
    "url_list = []\n",
    "for i in range(355,5920,5):\n",
    "    url = \"https://s3-us-west-2.amazonaws.com/debateinemotion/debate1/frame%d.jpg\" % i\n",
    "    url_list.append(url)"
   ]
  },
  {
   "cell_type": "code",
   "execution_count": 7,
   "metadata": {
    "collapsed": false
   },
   "outputs": [
    {
     "ename": "KeyboardInterrupt",
     "evalue": "",
     "output_type": "error",
     "traceback": [
      "\u001b[0;31m---------------------------------------------------------------------------\u001b[0m",
      "\u001b[0;31mKeyboardInterrupt\u001b[0m                         Traceback (most recent call last)",
      "\u001b[0;32m<ipython-input-7-2506b88aa809>\u001b[0m in \u001b[0;36m<module>\u001b[0;34m()\u001b[0m\n\u001b[1;32m     27\u001b[0m     \u001b[0mcount\u001b[0m \u001b[0;34m+=\u001b[0m \u001b[0;36m5\u001b[0m\u001b[0;34m\u001b[0m\u001b[0m\n\u001b[1;32m     28\u001b[0m \u001b[0;34m\u001b[0m\u001b[0m\n\u001b[0;32m---> 29\u001b[0;31m     \u001b[0mtime\u001b[0m\u001b[0;34m.\u001b[0m\u001b[0msleep\u001b[0m\u001b[0;34m(\u001b[0m\u001b[0;36m3\u001b[0m\u001b[0;34m)\u001b[0m\u001b[0;34m\u001b[0m\u001b[0m\n\u001b[0m",
      "\u001b[0;31mKeyboardInterrupt\u001b[0m: "
     ]
    },
    {
     "name": "stdout",
     "output_type": "stream",
     "text": [
      "time: 56.9 s\n"
     ]
    }
   ],
   "source": [
    "# Face Detection & Emotion Analysis - UPDATED\n",
    "processed = {}\n",
    "face_detection = {}\n",
    "count = 355\n",
    "#355\n",
    "\n",
    "for single_image in url_list:\n",
    " \n",
    "    try:\n",
    "        face_detection[count] = detect(single_image)\n",
    "\n",
    "        json = { 'url': single_image } \n",
    "        processed[count] = processRequest(json, data, headers, params)  \n",
    "    except:\n",
    "        pass\n",
    "\n",
    "    try:\n",
    "        if face_detection[count][0]['faceRectangle'] == processed[count][0]['faceRectangle']:\n",
    "            face_detection[count][0].update(processed[count][0])\n",
    "            face_detection[count][1].update(processed[count][1])\n",
    "        if  face_detection[count][0]['faceRectangle'] == processed[count][1]['faceRectangle']:\n",
    "            face_detection[count][0].update(processed[count][1])\n",
    "            face_detection[count][1].update(processed[count][0])\n",
    "    except:\n",
    "        pass\n",
    "    \n",
    "    count += 5\n",
    "    \n",
    "    time.sleep(3)"
   ]
  },
  {
   "cell_type": "code",
   "execution_count": 9,
   "metadata": {
    "collapsed": false
   },
   "outputs": [
    {
     "data": {
      "text/plain": [
       "{355: [{'faceAttributes': {'gender': 'female'},\n",
       "   'faceId': '76cc845f-0d14-4e2c-8df1-988b576548f1',\n",
       "   'faceRectangle': {'height': 172, 'left': 520, 'top': 146, 'width': 172},\n",
       "   'scores': {'anger': 0.0001672929,\n",
       "    'contempt': 0.00451023877,\n",
       "    'disgust': 0.00026952356,\n",
       "    'fear': 7.905383e-06,\n",
       "    'happiness': 0.9039006,\n",
       "    'neutral': 0.09033607,\n",
       "    'sadness': 0.000107829219,\n",
       "    'surprise': 0.0007005392}}],\n",
       " 360: [{'faceAttributes': {'gender': 'female'},\n",
       "   'faceId': 'af9514d3-1716-44d4-9d84-bff40a88b2c9',\n",
       "   'faceRectangle': {'height': 171, 'left': 536, 'top': 156, 'width': 171},\n",
       "   'scores': {'anger': 0.000222364251,\n",
       "    'contempt': 0.0308945477,\n",
       "    'disgust': 0.0005188993,\n",
       "    'fear': 3.26102668e-06,\n",
       "    'happiness': 0.653031349,\n",
       "    'neutral': 0.313853323,\n",
       "    'sadness': 0.0004347275,\n",
       "    'surprise': 0.001041556}}],\n",
       " 365: [{'faceAttributes': {'gender': 'female'},\n",
       "   'faceId': '400b7285-07b2-4121-aab8-c6a3031566a3',\n",
       "   'faceRectangle': {'height': 166, 'left': 542, 'top': 162, 'width': 166},\n",
       "   'scores': {'anger': 0.000180145609,\n",
       "    'contempt': 0.008076612,\n",
       "    'disgust': 0.00275290455,\n",
       "    'fear': 5.382585e-05,\n",
       "    'happiness': 0.0147627844,\n",
       "    'neutral': 0.7024032,\n",
       "    'sadness': 0.00468200445,\n",
       "    'surprise': 0.2670885}}],\n",
       " 370: [{'faceAttributes': {'gender': 'female'},\n",
       "   'faceId': 'd509f65e-6c91-44ef-aaf0-03d924c57623',\n",
       "   'faceRectangle': {'height': 175, 'left': 553, 'top': 170, 'width': 175},\n",
       "   'scores': {'anger': 0.000230584163,\n",
       "    'contempt': 0.0123641118,\n",
       "    'disgust': 0.0006410585,\n",
       "    'fear': 5.08109952e-06,\n",
       "    'happiness': 0.881924331,\n",
       "    'neutral': 0.103158787,\n",
       "    'sadness': 8.940893e-05,\n",
       "    'surprise': 0.00158662291}}],\n",
       " 375: [{'faceAttributes': {'gender': 'female'},\n",
       "   'faceId': 'c126b769-0dfb-4e61-a86e-8cea956365f1',\n",
       "   'faceRectangle': {'height': 181, 'left': 498, 'top': 169, 'width': 181},\n",
       "   'scores': {'anger': 0.00340020657,\n",
       "    'contempt': 0.05115389,\n",
       "    'disgust': 0.00220910716,\n",
       "    'fear': 0.000136843664,\n",
       "    'happiness': 0.238202453,\n",
       "    'neutral': 0.6850669,\n",
       "    'sadness': 0.0184564367,\n",
       "    'surprise': 0.0013741994}}],\n",
       " 380: [{'faceAttributes': {'gender': 'female'},\n",
       "   'faceId': '854af759-d2e2-46c3-920d-78a125d5f76b',\n",
       "   'faceRectangle': {'height': 176, 'left': 517, 'top': 154, 'width': 176},\n",
       "   'scores': {'anger': 5.648229e-05,\n",
       "    'contempt': 0.00764225051,\n",
       "    'disgust': 0.0003593955,\n",
       "    'fear': 2.38937537e-06,\n",
       "    'happiness': 0.0165336672,\n",
       "    'neutral': 0.9627398,\n",
       "    'sadness': 0.0100529958,\n",
       "    'surprise': 0.0026130015}}],\n",
       " 385: [{'faceAttributes': {'gender': 'male'},\n",
       "   'faceId': '4b708080-1d4f-484b-9ac0-ddd430ebdbae',\n",
       "   'faceRectangle': {'height': 193, 'left': 193, 'top': 130, 'width': 193},\n",
       "   'scores': {'anger': 0.0401439257,\n",
       "    'contempt': 0.0226822272,\n",
       "    'disgust': 0.00374675123,\n",
       "    'fear': 7.12852761e-06,\n",
       "    'happiness': 2.94789261e-05,\n",
       "    'neutral': 0.35265547,\n",
       "    'sadness': 0.5807306,\n",
       "    'surprise': 4.383599e-06}},\n",
       "  {'faceAttributes': {'gender': 'female'},\n",
       "   'faceId': '50b7b63c-d99f-492c-b667-258669851cd9',\n",
       "   'faceRectangle': {'height': 178, 'left': 821, 'top': 142, 'width': 178},\n",
       "   'scores': {'anger': 0.00139498955,\n",
       "    'contempt': 0.00197774335,\n",
       "    'disgust': 0.000423520833,\n",
       "    'fear': 7.254506e-05,\n",
       "    'happiness': 0.00222164,\n",
       "    'neutral': 0.842591166,\n",
       "    'sadness': 0.0028213982,\n",
       "    'surprise': 0.148497}}],\n",
       " 390: [{'faceAttributes': {'gender': 'male'},\n",
       "   'faceId': '38ebe8c0-fafa-49e0-b32a-1dc9483e7c9c',\n",
       "   'faceRectangle': {'height': 193, 'left': 178, 'top': 133, 'width': 193},\n",
       "   'scores': {'anger': 0.196644872,\n",
       "    'contempt': 0.00725970743,\n",
       "    'disgust': 0.00172824331,\n",
       "    'fear': 1.1029314e-05,\n",
       "    'happiness': 2.03051263e-06,\n",
       "    'neutral': 0.478724867,\n",
       "    'sadness': 0.315619171,\n",
       "    'surprise': 1.0069617e-05}},\n",
       "  {'faceAttributes': {'gender': 'female'},\n",
       "   'faceId': '3abbc548-10c2-456f-896c-940a5e6b8a8c',\n",
       "   'faceRectangle': {'height': 176, 'left': 831, 'top': 138, 'width': 176},\n",
       "   'scores': {'anger': 0.0008078457,\n",
       "    'contempt': 0.00429697754,\n",
       "    'disgust': 0.00443295529,\n",
       "    'fear': 0.000310127973,\n",
       "    'happiness': 0.022598017,\n",
       "    'neutral': 0.902994037,\n",
       "    'sadness': 0.02610663,\n",
       "    'surprise': 0.0384534262}}],\n",
       " 395: [{'faceAttributes': {'gender': 'male'},\n",
       "   'faceId': 'a2d9a6ba-3989-496d-8ebb-eb3a9c8f314e',\n",
       "   'faceRectangle': {'height': 193, 'left': 165, 'top': 195, 'width': 193},\n",
       "   'scores': {'anger': 0.40597558,\n",
       "    'contempt': 0.00970957,\n",
       "    'disgust': 0.00275179255,\n",
       "    'fear': 0.0005283688,\n",
       "    'happiness': 2.04418811e-05,\n",
       "    'neutral': 0.516262352,\n",
       "    'sadness': 0.0639644042,\n",
       "    'surprise': 0.000787473}},\n",
       "  {'faceAttributes': {'gender': 'female'},\n",
       "   'faceId': '09c44239-e077-4bef-98e6-f787df7a96d2',\n",
       "   'faceRectangle': {'height': 169, 'left': 837, 'top': 150, 'width': 169},\n",
       "   'scores': {'anger': 0.00497427443,\n",
       "    'contempt': 0.007162395,\n",
       "    'disgust': 0.0178052559,\n",
       "    'fear': 0.0006722838,\n",
       "    'happiness': 0.011096498,\n",
       "    'neutral': 0.7839306,\n",
       "    'sadness': 0.0300034061,\n",
       "    'surprise': 0.1443553}}]}"
      ]
     },
     "execution_count": 9,
     "metadata": {},
     "output_type": "execute_result"
    },
    {
     "name": "stdout",
     "output_type": "stream",
     "text": [
      "time: 42.3 ms\n"
     ]
    }
   ],
   "source": [
    "face_detection"
   ]
  },
  {
   "cell_type": "code",
   "execution_count": 29,
   "metadata": {
    "collapsed": false
   },
   "outputs": [
    {
     "name": "stdout",
     "output_type": "stream",
     "text": [
      "time: 252 ms\n"
     ]
    }
   ],
   "source": [
    "# Save the result as Json\n",
    "import json\n",
    "with open('debate1_full.json', 'w') as fp:\n",
    "    json.dump(face_detection, fp, sort_keys=True)"
   ]
  },
  {
   "cell_type": "code",
   "execution_count": null,
   "metadata": {
    "collapsed": true
   },
   "outputs": [],
   "source": []
  }
 ],
 "metadata": {
  "kernelspec": {
   "display_name": "Python 3",
   "language": "python",
   "name": "python3"
  },
  "language_info": {
   "codemirror_mode": {
    "name": "ipython",
    "version": 3
   },
   "file_extension": ".py",
   "mimetype": "text/x-python",
   "name": "python",
   "nbconvert_exporter": "python",
   "pygments_lexer": "ipython3",
   "version": "3.5.2"
  }
 },
 "nbformat": 4,
 "nbformat_minor": 0
}
