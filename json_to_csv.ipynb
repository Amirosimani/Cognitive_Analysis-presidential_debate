{
 "cells": [
  {
   "cell_type": "code",
   "execution_count": 1,
   "metadata": {
    "collapsed": true
   },
   "outputs": [],
   "source": [
    "import json\n",
    "import csv"
   ]
  },
  {
   "cell_type": "code",
   "execution_count": 2,
   "metadata": {
    "collapsed": true
   },
   "outputs": [],
   "source": [
    "\"\"\"\n",
    "This can probably be improved but serves the purpose of our analysis.\n",
    "I used Chris's schema so it will be useful for Quarz analysis.\n",
    "\n",
    "\"\"\"\n",
    "\n",
    "EMOTIONS = [\n",
    "    'contempt',\n",
    "    'fear',\n",
    "    'sadness',\n",
    "    'disgust',\n",
    "    'anger',\n",
    "    'neutral',\n",
    "    'happiness',\n",
    "    'surprise',\n",
    "]\n",
    "\n",
    "\n",
    "CSV_COLUMNS = [\n",
    "    'url',\n",
    "    'frame_time',\n",
    "    'trump_visible',\n",
    "    'trump_happiness',\n",
    "    'trump_neutral',\n",
    "    'trump_anger',\n",
    "    'trump_contempt',\n",
    "    'trump_suprise',\n",
    "    'trump_sadness',\n",
    "    'trump_fear',\n",
    "    'trump_disgust',\n",
    "    'clinton_visible',\n",
    "    'clinton_happiness',\n",
    "    'clinton_neutral',\n",
    "    'clinton_anger',\n",
    "    'clinton_contempt',\n",
    "    'clinton_suprise',\n",
    "    'clinton_sadness',\n",
    "    'clinton_fear',\n",
    "    'clinton_disgust'\n",
    "]"
   ]
  },
  {
   "cell_type": "code",
   "execution_count": 3,
   "metadata": {
    "collapsed": false
   },
   "outputs": [],
   "source": [
    "with open('/Users/Amiros/GitHub/debate/debate1_full.json') as data_file:    \n",
    "    json_data = json.load(data_file)\n",
    "    \n",
    "json_data = {int(k):v for k,v in json_data.items()} #converting keys to integer   \n",
    "frame_keys = sorted(json_data.keys())"
   ]
  },
  {
   "cell_type": "code",
   "execution_count": 4,
   "metadata": {
    "collapsed": false,
    "scrolled": false
   },
   "outputs": [],
   "source": [
    "csv_data = []\n",
    "   \n",
    "for key in frame_keys:\n",
    "    url = 'https://s3-us-west-2.amazonaws.com/debateinemotion/debate1/frame%s.jpg' % key\n",
    "    frame = json_data[key]\n",
    "        \n",
    "    row = {\n",
    "        'frame': frame,\n",
    "        'url': url,\n",
    "        'frame_time': key,\n",
    "        'trump_visible': False,\n",
    "        'clinton_visible': False\n",
    "    }\n",
    "    \n",
    "    if len(frame) > 2:\n",
    "        print('Frame %s has more than 2 faces (%s)' % (key, url))\n",
    "        continue\n",
    "    elif len(frame) < 2:\n",
    "        for face in frame:\n",
    "            if face['faceAttributes']['gender'] == 'male':\n",
    "                prefix = 'trump_'\n",
    "                row[prefix + 'visible'] = True\n",
    "                for emotion in EMOTIONS:\n",
    "                    #print(face['scores'][emotion])\n",
    "                    row[prefix + emotion] = face['scores'][emotion]\n",
    "                ### assign emotions vale to each candidate and change the name to the respective one \n",
    "                    \n",
    "            if face['faceAttributes']['gender'] == 'female':\n",
    "                prefix = 'clinton_'\n",
    "                row[prefix + 'visible'] = True\n",
    "                for emotion in EMOTIONS:\n",
    "                    #print(face['scores'][emotion])\n",
    "                    row[prefix + emotion] = face['scores'][emotion]\n",
    "            row.pop(\"frame\", None)        \n",
    "      \n",
    "    elif len(frame) == 2:\n",
    "        row['trump_visible'] = True\n",
    "        row['clinton_visible'] = True\n",
    "        for face in frame:\n",
    "            if face['faceAttributes']['gender'] == 'male':\n",
    "                prefix = 'trump_'\n",
    "                row[prefix + 'visible'] = True\n",
    "                for emotion in EMOTIONS:\n",
    "                    #print(face['scores'][emotion])\n",
    "                    row[prefix + emotion] = face['scores'][emotion]\n",
    "                ### assign emotions vale to each candidate and change the name to the respective one \n",
    "                    \n",
    "            if face['faceAttributes']['gender'] == 'female':\n",
    "                prefix = 'clinton_'\n",
    "                row[prefix + 'visible'] = True\n",
    "                for emotion in EMOTIONS:\n",
    "                    #print(face['scores'][emotion])\n",
    "                    row[prefix + emotion] = face['scores'][emotion]\n",
    "        row.pop(\"frame\", None)        \n",
    "\n",
    "    csv_data.append(row)"
   ]
  },
  {
   "cell_type": "code",
   "execution_count": 6,
   "metadata": {
    "collapsed": false
   },
   "outputs": [],
   "source": [
    "import pandas as pd\n",
    "df = pd.DataFrame(csv_data)"
   ]
  },
  {
   "cell_type": "code",
   "execution_count": 10,
   "metadata": {
    "collapsed": false
   },
   "outputs": [],
   "source": [
    "df.to_csv('debate1_v2.csv', sep=',')"
   ]
  },
  {
   "cell_type": "code",
   "execution_count": null,
   "metadata": {
    "collapsed": true
   },
   "outputs": [],
   "source": []
  }
 ],
 "metadata": {
  "kernelspec": {
   "display_name": "Python 3",
   "language": "python",
   "name": "python3"
  },
  "language_info": {
   "codemirror_mode": {
    "name": "ipython",
    "version": 3
   },
   "file_extension": ".py",
   "mimetype": "text/x-python",
   "name": "python",
   "nbconvert_exporter": "python",
   "pygments_lexer": "ipython3",
   "version": "3.5.2"
  }
 },
 "nbformat": 4,
 "nbformat_minor": 0
}
