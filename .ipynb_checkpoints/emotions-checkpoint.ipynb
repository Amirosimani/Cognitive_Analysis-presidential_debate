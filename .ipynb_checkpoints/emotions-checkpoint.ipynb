{
 "cells": [
  {
   "cell_type": "code",
   "execution_count": 95,
   "metadata": {
    "collapsed": false
   },
   "outputs": [],
   "source": [
    "import http.client, urllib, base64, requests\n",
    "import cognitive_face as CF \n",
    "from cognitive_face import util\n",
    "import pandas as pd"
   ]
  },
  {
   "cell_type": "code",
   "execution_count": 12,
   "metadata": {
    "collapsed": false
   },
   "outputs": [],
   "source": [
    "#Emotion Analysis parameters\n",
    "_url = 'https://api.projectoxford.ai/emotion/v1.0/recognize'\n",
    "_key = '183aea69820e4dfda0176db816fc1f72' #Here you have to paste your primary key\n",
    "_maxNumRetries = 5\n",
    "\n",
    "#Face detection parametrs\n",
    "CF.Key.set('d78211e12bba41a991382ade5d68745b') #set the key"
   ]
  },
  {
   "cell_type": "code",
   "execution_count": 110,
   "metadata": {
    "collapsed": true
   },
   "outputs": [],
   "source": [
    "# Image path\n",
    "urlImage2 = 'https://s3-us-west-2.amazonaws.com/debateinemotion/debate_frames/frame1050.jpg'"
   ]
  },
  {
   "cell_type": "code",
   "execution_count": 111,
   "metadata": {
    "collapsed": true
   },
   "outputs": [],
   "source": [
    "# Emtional Anlaysis function\n",
    "def processRequest( json, data, headers, params ):\n",
    "\n",
    "    \"\"\"\n",
    "    Helper function to process the request to Project Oxford\n",
    "\n",
    "    Parameters:\n",
    "    json: Used when processing images from its URL. See API Documentation\n",
    "    data: Used when processing image read from disk. See API Documentation\n",
    "    headers: Used to pass the key information and the data type request\n",
    "    \"\"\"\n",
    "\n",
    "    retries = 0\n",
    "    result = None\n",
    "\n",
    "    while True:\n",
    "\n",
    "        response = requests.request( 'post', _url, json = json, data = data, headers = headers, params = params )\n",
    "\n",
    "        if response.status_code == 429: \n",
    "\n",
    "            print( \"Message: %s\" % ( response.json()['error']['message'] ) )\n",
    "\n",
    "            if retries <= _maxNumRetries: \n",
    "                time.sleep(1) \n",
    "                retries += 1\n",
    "                continue\n",
    "            else: \n",
    "                print( 'Error: failed after retrying!' )\n",
    "                break\n",
    "\n",
    "        elif response.status_code == 200 or response.status_code == 201:\n",
    "\n",
    "            if 'content-length' in response.headers and int(response.headers['content-length']) == 0: \n",
    "                result = None \n",
    "            elif 'content-type' in response.headers and isinstance(response.headers['content-type'], str): \n",
    "                if 'application/json' in response.headers['content-type'].lower(): \n",
    "                    result = response.json() if response.content else None \n",
    "                elif 'image' in response.headers['content-type'].lower(): \n",
    "                    result = response.content\n",
    "        else:\n",
    "            print( \"Error code: %d\" % ( response.status_code ) )\n",
    "            print( \"Message: %s\" % ( response.json()['error']['message'] ) )\n",
    "\n",
    "        break\n",
    "        \n",
    "    return result\n",
    "\n",
    "\n",
    "headers = dict()\n",
    "headers['Ocp-Apim-Subscription-Key'] = _key\n",
    "headers['Content-Type'] = 'application/json' \n",
    "\n",
    "json = { 'url': urlImage2 } \n",
    "data = None\n",
    "params = None"
   ]
  },
  {
   "cell_type": "code",
   "execution_count": 112,
   "metadata": {
    "collapsed": true
   },
   "outputs": [],
   "source": [
    "# Face detect funciton\n",
    "\n",
    "def detect(image, face_id=True, landmarks=False, faceRectangle= False, attributes='gender'):\n",
    "    \n",
    "    url = 'detect'\n",
    "    headers, data, json = util.parse_image(image)\n",
    "    params = {\n",
    "        'returnFaceId': face_id and 'true',\n",
    "        'returnFaceLandmarks': landmarks and 'false',\n",
    "        'returnFaceAttributes': attributes,\n",
    "    }\n",
    "\n",
    "    return util.request('POST', url, headers=headers, params=params, json=json,\n",
    "                        data=data)"
   ]
  },
  {
   "cell_type": "code",
   "execution_count": 113,
   "metadata": {
    "collapsed": false
   },
   "outputs": [],
   "source": [
    "# Running functions\n",
    "result = processRequest( json, data, headers, params,  )\n",
    "face = detect(urlImage2)"
   ]
  },
  {
   "cell_type": "code",
   "execution_count": 114,
   "metadata": {
    "collapsed": false
   },
   "outputs": [
    {
     "data": {
      "text/plain": [
       "[{'faceAttributes': {'gender': 'male'},\n",
       "  'faceId': 'a5d0a88a-34ed-4367-88a9-9be6a4d0db3f',\n",
       "  'faceRectangle': {'height': 140, 'left': 231, 'top': 108, 'width': 140},\n",
       "  'scores': {'anger': 0.004384325,\n",
       "   'contempt': 0.0455157645,\n",
       "   'disgust': 0.0111863315,\n",
       "   'fear': 0.0006400645,\n",
       "   'happiness': 0.01560514,\n",
       "   'neutral': 0.34206596,\n",
       "   'sadness': 0.579981,\n",
       "   'surprise': 0.0006214003}},\n",
       " {'faceAttributes': {'gender': 'female'},\n",
       "  'faceId': '53ab45af-b792-45b6-8af2-4ef82c272b7b',\n",
       "  'faceRectangle': {'height': 136, 'left': 628, 'top': 109, 'width': 136},\n",
       "  'scores': {'anger': 0.0005654177,\n",
       "   'contempt': 0.003809408,\n",
       "   'disgust': 0.00125692727,\n",
       "   'fear': 1.867909e-05,\n",
       "   'happiness': 0.06654705,\n",
       "   'neutral': 0.886985242,\n",
       "   'sadness': 0.00117054419,\n",
       "   'surprise': 0.0396467075}}]"
      ]
     },
     "execution_count": 114,
     "metadata": {},
     "output_type": "execute_result"
    }
   ],
   "source": [
    "# Adding gender to emotions\n",
    "final_data = []\n",
    "for i, value in enumerate(result):\n",
    "    final_data.append(result[i])\n",
    "    final_data[i].update(face[i])\n",
    "final_data"
   ]
  },
  {
   "cell_type": "code",
   "execution_count": 97,
   "metadata": {
    "collapsed": true
   },
   "outputs": [],
   "source": [
    "#Turning Json to pandas dataframe\n",
    "\n",
    "#function to flatten json objects\n",
    "def flattenjson( b, delim ):\n",
    "    val = {}\n",
    "    for i in b.keys():\n",
    "        if isinstance( b[i], dict ):\n",
    "            get = flattenjson( b[i], delim )\n",
    "            for j in get.keys():\n",
    "                val[ i + delim + j ] = get[j]\n",
    "        else:\n",
    "            val[i] = b[i]\n",
    "\n",
    "    return val"
   ]
  },
  {
   "cell_type": "code",
   "execution_count": 98,
   "metadata": {
    "collapsed": true
   },
   "outputs": [],
   "source": [
    "#select keys that are needed for analysis - it can be modified as needed\n",
    "wanted_keys = ['faceAttributes', 'faceId', 'scores']"
   ]
  },
  {
   "cell_type": "code",
   "execution_count": 99,
   "metadata": {
    "collapsed": false
   },
   "outputs": [
    {
     "data": {
      "text/plain": [
       "list"
      ]
     },
     "execution_count": 99,
     "metadata": {},
     "output_type": "execute_result"
    }
   ],
   "source": [
    "type(final_data)"
   ]
  },
  {
   "cell_type": "code",
   "execution_count": 104,
   "metadata": {
    "collapsed": false
   },
   "outputs": [],
   "source": [
    "f = []\n",
    "for index, entry in enumerate(final_data):\n",
    "    flat_dict = flattenjson(final_data[index], \"\")\n",
    "    trimmed_dict = dict((k, flat_dict[k]) for k in wanted_keys if k in flat_dict)\n",
    "    f.append(trimmed_dict)"
   ]
  },
  {
   "cell_type": "code",
   "execution_count": 115,
   "metadata": {
    "collapsed": false
   },
   "outputs": [
    {
     "data": {
      "text/html": [
       "<div>\n",
       "<table border=\"1\" class=\"dataframe\">\n",
       "  <thead>\n",
       "    <tr style=\"text-align: right;\">\n",
       "      <th></th>\n",
       "      <th>faceAttributes</th>\n",
       "      <th>faceId</th>\n",
       "      <th>faceRectangle</th>\n",
       "      <th>scores</th>\n",
       "    </tr>\n",
       "  </thead>\n",
       "  <tbody>\n",
       "    <tr>\n",
       "      <th>0</th>\n",
       "      <td>{'gender': 'male'}</td>\n",
       "      <td>a5d0a88a-34ed-4367-88a9-9be6a4d0db3f</td>\n",
       "      <td>{'left': 231, 'top': 108, 'height': 140, 'widt...</td>\n",
       "      <td>{'sadness': 0.579981, 'surprise': 0.0006214003...</td>\n",
       "    </tr>\n",
       "    <tr>\n",
       "      <th>1</th>\n",
       "      <td>{'gender': 'female'}</td>\n",
       "      <td>53ab45af-b792-45b6-8af2-4ef82c272b7b</td>\n",
       "      <td>{'left': 628, 'top': 109, 'height': 136, 'widt...</td>\n",
       "      <td>{'sadness': 0.00117054419, 'surprise': 0.03964...</td>\n",
       "    </tr>\n",
       "  </tbody>\n",
       "</table>\n",
       "</div>"
      ],
      "text/plain": [
       "         faceAttributes                                faceId  \\\n",
       "0    {'gender': 'male'}  a5d0a88a-34ed-4367-88a9-9be6a4d0db3f   \n",
       "1  {'gender': 'female'}  53ab45af-b792-45b6-8af2-4ef82c272b7b   \n",
       "\n",
       "                                       faceRectangle  \\\n",
       "0  {'left': 231, 'top': 108, 'height': 140, 'widt...   \n",
       "1  {'left': 628, 'top': 109, 'height': 136, 'widt...   \n",
       "\n",
       "                                              scores  \n",
       "0  {'sadness': 0.579981, 'surprise': 0.0006214003...  \n",
       "1  {'sadness': 0.00117054419, 'surprise': 0.03964...  "
      ]
     },
     "execution_count": 115,
     "metadata": {},
     "output_type": "execute_result"
    }
   ],
   "source": [
    "pd.DataFrame(final_data)"
   ]
  },
  {
   "cell_type": "code",
   "execution_count": null,
   "metadata": {
    "collapsed": true
   },
   "outputs": [],
   "source": []
  }
 ],
 "metadata": {
  "kernelspec": {
   "display_name": "Python 3",
   "language": "python",
   "name": "python3"
  },
  "language_info": {
   "codemirror_mode": {
    "name": "ipython",
    "version": 3
   },
   "file_extension": ".py",
   "mimetype": "text/x-python",
   "name": "python",
   "nbconvert_exporter": "python",
   "pygments_lexer": "ipython3",
   "version": "3.5.2"
  }
 },
 "nbformat": 4,
 "nbformat_minor": 0
}
