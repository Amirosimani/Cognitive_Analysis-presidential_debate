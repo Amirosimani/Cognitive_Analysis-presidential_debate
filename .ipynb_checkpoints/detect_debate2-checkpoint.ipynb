{
 "cells": [
  {
   "cell_type": "code",
   "execution_count": 1,
   "metadata": {
    "collapsed": false
   },
   "outputs": [],
   "source": [
    "import http.client, urllib, requests, urllib.request, urllib.parse, urllib.error, base64\n",
    "import cognitive_face as CF \n",
    "from cognitive_face import util\n",
    "import pandas as pd"
   ]
  },
  {
   "cell_type": "code",
   "execution_count": 2,
   "metadata": {
    "collapsed": false
   },
   "outputs": [
    {
     "name": "stderr",
     "output_type": "stream",
     "text": [
      "/Users/Amiros/anaconda/lib/python3.5/site-packages/IPython/core/magics/extension.py:47: UserWarning: %install_ext` is deprecated, please distribute your extension as a python package.\n",
      "  \"as a python package.\", UserWarning)\n"
     ]
    },
    {
     "name": "stdout",
     "output_type": "stream",
     "text": [
      "Installed autotime.py. To use it, type:\n",
      "  %load_ext autotime\n"
     ]
    }
   ],
   "source": [
    "%install_ext https://raw.github.com/cpcloud/ipython-autotime/master/autotime.py\n",
    "%load_ext autotime"
   ]
  },
  {
   "cell_type": "code",
   "execution_count": 3,
   "metadata": {
    "collapsed": false
   },
   "outputs": [
    {
     "name": "stdout",
     "output_type": "stream",
     "text": [
      "time: 728 µs\n"
     ]
    }
   ],
   "source": [
    "#https://github.com/Microsoft/Cognitive-Face-Python/blob/master/cognitive_face/face_list.py\n",
    "#https://www.microsoft.com/cognitive-services/en-us/face-api/documentation/face-api-how-to-topics/howtoidentifyfacesinimage#step2-2"
   ]
  },
  {
   "cell_type": "code",
   "execution_count": 4,
   "metadata": {
    "collapsed": false
   },
   "outputs": [
    {
     "name": "stdout",
     "output_type": "stream",
     "text": [
      "time: 1.45 ms\n"
     ]
    }
   ],
   "source": [
    "KEY = 'e3b77a2e317244f2a7198e9387190a64'  \n",
    "CF.Key.set(KEY)"
   ]
  },
  {
   "cell_type": "markdown",
   "metadata": {},
   "source": [
    "## Person Groups"
   ]
  },
  {
   "cell_type": "code",
   "execution_count": 5,
   "metadata": {
    "collapsed": false
   },
   "outputs": [
    {
     "name": "stdout",
     "output_type": "stream",
     "text": [
      "time: 25.1 ms\n"
     ]
    }
   ],
   "source": [
    "#Create a person group\n",
    "def create_group(person_group_id, name=None, user_data=None):\n",
    "    name = person_group_id if name is None else name\n",
    "    url = 'persongroups/{}'.format(person_group_id)\n",
    "    json = {\n",
    "        'name': name,\n",
    "        'userData': user_data,\n",
    "    }\n",
    "\n",
    "    return util.request('PUT', url, json=json)\n",
    "\n",
    "#Delete person group\n",
    "def delete_person_group(person_group_id):\n",
    "    url = 'persongroups/{}'.format(person_group_id)\n",
    "    return util.request('DELETE', url)\n",
    "\n",
    "\n",
    "# Lists person groups and their information\n",
    "def lists(start=None, top=None):\n",
    "    url = 'persongroups'\n",
    "    params = {\n",
    "        'start': start,\n",
    "        'top': top,\n",
    "    }\n",
    "\n",
    "    return util.request('GET', url, params=params)\n",
    "\n",
    "\n",
    "#Train a person group\n",
    "def train(person_group_id):\n",
    "    url = 'persongroups/{}/train'.format(person_group_id)\n",
    "    \n",
    "    return util.request('POST', url)\n",
    "\n",
    "\n",
    "#Retrieve the training status of a person group\n",
    "def get_status(person_group_id):\n",
    "    url = 'persongroups/{}/training'.format(person_group_id)\n",
    "\n",
    "    return util.request('GET', url)"
   ]
  },
  {
   "cell_type": "code",
   "execution_count": 6,
   "metadata": {
    "collapsed": false
   },
   "outputs": [
    {
     "data": {
      "text/plain": [
       "{}"
      ]
     },
     "execution_count": 6,
     "metadata": {},
     "output_type": "execute_result"
    },
    {
     "name": "stdout",
     "output_type": "stream",
     "text": [
      "time: 998 ms\n"
     ]
    }
   ],
   "source": [
    "# creating a person group for both candidates\n",
    "Person_group_id = \"candidates\"\n",
    "\n",
    "create_group(Person_group_id, name = 'candidates')"
   ]
  },
  {
   "cell_type": "markdown",
   "metadata": {},
   "source": [
    "## Persons"
   ]
  },
  {
   "cell_type": "code",
   "execution_count": 7,
   "metadata": {
    "collapsed": false
   },
   "outputs": [
    {
     "name": "stdout",
     "output_type": "stream",
     "text": [
      "time: 47.1 ms\n"
     ]
    }
   ],
   "source": [
    "#Create a new person in a group\n",
    "def create_person(person_group_id, name, user_data=None):\n",
    "    \n",
    "    url = 'persongroups/{}/persons'.format(person_group_id)\n",
    "    json = {\n",
    "        'name': name,\n",
    "        'userData': user_data,\n",
    "    }\n",
    "\n",
    "    return util.request('POST', url, json=json)\n",
    "\n",
    "\n",
    "#List all persons in a group\n",
    "def list_persons(person_group_id):\n",
    "\n",
    "    url = 'persongroups/{}/persons'.format(person_group_id)\n",
    "\n",
    "    return util.request('GET', url)\n",
    "\n",
    "\n",
    "#Retrieve a person's information, including registered persisted faces, `name` and `user_data`.\n",
    "def get(person_group_id, person_id):\n",
    "\n",
    "    url = 'persongroups/{}/persons/{}'.format(person_group_id, person_id)\n",
    "\n",
    "    return util.request('GET', url)\n",
    "\n",
    "\n",
    "\n",
    "\n",
    "# Add a representative face to a person for identification.\n",
    "def add_face(image, person_group_id, person_id, user_data=None,\n",
    "             target_face=None):\n",
    "    \n",
    "    url = 'persongroups/{}/persons/{}/persistedFaces'.format(\n",
    "        person_group_id, person_id)\n",
    "    headers, data, json = util.parse_image(image)\n",
    "    params = {\n",
    "        'userData': user_data,\n",
    "        'targetFace': target_face,\n",
    "    }\n",
    "\n",
    "    return util.request('POST', url, headers=headers, params=params, json=json,\n",
    "                        data=data)\n",
    "\n",
    "\n",
    "#Retrieve information about a persisted face \n",
    "def get_face(person_group_id, person_id, persisted_face_id):\n",
    "\n",
    "    url = 'persongroups/{}/persons/{}/persistedFaces/{}'.format(\n",
    "        person_group_id, person_id, persisted_face_id)\n",
    "\n",
    "    return util.request('GET', url)\n",
    "\n",
    "\n",
    "#delete person\n",
    "def delete_person(person_group_id, person_id):\n",
    "\n",
    "    url = 'persongroups/{}/persons/{}'.format(person_group_id, person_id)\n",
    "\n",
    "    return util.request('DELETE', url)"
   ]
  },
  {
   "cell_type": "code",
   "execution_count": 18,
   "metadata": {
    "collapsed": false
   },
   "outputs": [
    {
     "name": "stdout",
     "output_type": "stream",
     "text": [
      "time: 479 ms\n"
     ]
    }
   ],
   "source": [
    "# Create persons for both candidates\n",
    "H_person = create_person(Person_group_id,\"hillary\")\n",
    "T_person= create_person(Person_group_id, \"trump\")\n",
    "\n",
    "# get person IDs\n",
    "H_personID = H_person['personId']\n",
    "T_personID = T_person['personId']"
   ]
  },
  {
   "cell_type": "code",
   "execution_count": 24,
   "metadata": {
    "collapsed": false
   },
   "outputs": [
    {
     "name": "stdout",
     "output_type": "stream",
     "text": [
      "time: 13.8 s\n"
     ]
    }
   ],
   "source": [
    "#Adding face to persons\n",
    "image_t = []\n",
    "for i in range (1,9):\n",
    "    image_t = \"https://s3-us-west-2.amazonaws.com/debateinemotion/sample/t/t%d.png\" % i\n",
    "    add_face(image_t, 'candidates', T_personID)\n",
    "    \n",
    "image_h = []\n",
    "for i in range (1,11):\n",
    "    image_h = \"https://s3-us-west-2.amazonaws.com/debateinemotion/sample/h/h%d.png\" % i\n",
    "    add_face(image_h, 'candidates', H_personID)"
   ]
  },
  {
   "cell_type": "code",
   "execution_count": 29,
   "metadata": {
    "collapsed": false
   },
   "outputs": [
    {
     "data": {
      "text/plain": [
       "{'name': 'hillary',\n",
       " 'persistedFaceIds': ['2fce2066-decc-4acd-9e42-7d7a8ed8630a',\n",
       "  '60396af4-1110-4be4-b27d-e88da0a3781a',\n",
       "  '731dc4ab-6ad9-48e1-85ba-4d5cd2c81ad8',\n",
       "  '7c9f5fa8-7497-4de5-85c8-b1aa6a4d47a6',\n",
       "  'a7d20073-4033-4232-a17a-cd169d65bb51',\n",
       "  'c0c620ad-7c9d-4d47-a495-1c8002c5cc69',\n",
       "  'ccb7b9dd-0dac-490c-a29c-3a1f9e582dae',\n",
       "  'd196fde4-f013-4349-8aaf-14513cb44b6b',\n",
       "  'f8a043a2-658a-4e7c-97dd-77e032d900d6',\n",
       "  'fbcaa98a-0094-47a9-84b6-26df1b1e4011'],\n",
       " 'personId': 'ca02317b-b2cf-4544-bcc4-6683d6634f59',\n",
       " 'userData': None}"
      ]
     },
     "execution_count": 29,
     "metadata": {},
     "output_type": "execute_result"
    },
    {
     "name": "stdout",
     "output_type": "stream",
     "text": [
      "time: 597 ms\n"
     ]
    }
   ],
   "source": [
    "get('candidates', H_personID)"
   ]
  },
  {
   "cell_type": "code",
   "execution_count": 30,
   "metadata": {
    "collapsed": false
   },
   "outputs": [
    {
     "data": {
      "text/plain": [
       "{}"
      ]
     },
     "execution_count": 30,
     "metadata": {},
     "output_type": "execute_result"
    },
    {
     "name": "stdout",
     "output_type": "stream",
     "text": [
      "time: 1.08 s\n"
     ]
    }
   ],
   "source": [
    "## Train\n",
    "train('candidates')"
   ]
  },
  {
   "cell_type": "code",
   "execution_count": 31,
   "metadata": {
    "collapsed": false
   },
   "outputs": [
    {
     "data": {
      "text/plain": [
       "{'createdDateTime': '10/13/2016 4:36:19 PM',\n",
       " 'lastActionDateTime': '10/13/2016 4:36:19 PM',\n",
       " 'message': None,\n",
       " 'status': 'succeeded'}"
      ]
     },
     "execution_count": 31,
     "metadata": {},
     "output_type": "execute_result"
    },
    {
     "name": "stdout",
     "output_type": "stream",
     "text": [
      "time: 439 ms\n"
     ]
    }
   ],
   "source": []
  },
  {
   "cell_type": "code",
   "execution_count": null,
   "metadata": {
    "collapsed": true
   },
   "outputs": [],
   "source": []
  }
 ],
 "metadata": {
  "kernelspec": {
   "display_name": "Python 3",
   "language": "python",
   "name": "python3"
  },
  "language_info": {
   "codemirror_mode": {
    "name": "ipython",
    "version": 3
   },
   "file_extension": ".py",
   "mimetype": "text/x-python",
   "name": "python",
   "nbconvert_exporter": "python",
   "pygments_lexer": "ipython3",
   "version": "3.5.2"
  }
 },
 "nbformat": 4,
 "nbformat_minor": 0
}
