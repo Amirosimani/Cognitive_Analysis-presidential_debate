{
 "cells": [
  {
   "cell_type": "code",
   "execution_count": 1,
   "metadata": {
    "collapsed": false
   },
   "outputs": [],
   "source": [
    "import http.client, urllib, requests, urllib.request, urllib.parse, urllib.error, base64\n",
    "import cognitive_face as CF \n",
    "from cognitive_face import util\n",
    "import pandas as pd"
   ]
  },
  {
   "cell_type": "code",
   "execution_count": 2,
   "metadata": {
    "collapsed": false
   },
   "outputs": [
    {
     "name": "stderr",
     "output_type": "stream",
     "text": [
      "/Users/Amiros/anaconda/lib/python3.5/site-packages/IPython/core/magics/extension.py:47: UserWarning: %install_ext` is deprecated, please distribute your extension as a python package.\n",
      "  \"as a python package.\", UserWarning)\n"
     ]
    },
    {
     "name": "stdout",
     "output_type": "stream",
     "text": [
      "Installed autotime.py. To use it, type:\n",
      "  %load_ext autotime\n"
     ]
    }
   ],
   "source": [
    "%install_ext https://raw.github.com/cpcloud/ipython-autotime/master/autotime.py\n",
    "%load_ext autotime"
   ]
  },
  {
   "cell_type": "code",
   "execution_count": 3,
   "metadata": {
    "collapsed": false
   },
   "outputs": [
    {
     "name": "stdout",
     "output_type": "stream",
     "text": [
      "time: 728 µs\n"
     ]
    }
   ],
   "source": [
    "#https://github.com/Microsoft/Cognitive-Face-Python/blob/master/cognitive_face/face_list.py\n",
    "#https://www.microsoft.com/cognitive-services/en-us/face-api/documentation/face-api-how-to-topics/howtoidentifyfacesinimage#step2-2"
   ]
  },
  {
   "cell_type": "code",
   "execution_count": 4,
   "metadata": {
    "collapsed": false
   },
   "outputs": [
    {
     "name": "stdout",
     "output_type": "stream",
     "text": [
      "time: 1.45 ms\n"
     ]
    }
   ],
   "source": [
    "KEY = 'e3b77a2e317244f2a7198e9387190a64'  \n",
    "CF.Key.set(KEY)"
   ]
  },
  {
   "cell_type": "markdown",
   "metadata": {},
   "source": [
    "## Person Groups"
   ]
  },
  {
   "cell_type": "code",
   "execution_count": 5,
   "metadata": {
    "collapsed": false
   },
   "outputs": [
    {
     "name": "stdout",
     "output_type": "stream",
     "text": [
      "time: 25.1 ms\n"
     ]
    }
   ],
   "source": [
    "#Create a person group\n",
    "def create_group(person_group_id, name=None, user_data=None):\n",
    "    name = person_group_id if name is None else name\n",
    "    url = 'persongroups/{}'.format(person_group_id)\n",
    "    json = {\n",
    "        'name': name,\n",
    "        'userData': user_data,\n",
    "    }\n",
    "\n",
    "    return util.request('PUT', url, json=json)\n",
    "\n",
    "#Delete person group\n",
    "def delete_person_group(person_group_id):\n",
    "    url = 'persongroups/{}'.format(person_group_id)\n",
    "    return util.request('DELETE', url)\n",
    "\n",
    "\n",
    "# Lists person groups and their information\n",
    "def lists(start=None, top=None):\n",
    "    url = 'persongroups'\n",
    "    params = {\n",
    "        'start': start,\n",
    "        'top': top,\n",
    "    }\n",
    "\n",
    "    return util.request('GET', url, params=params)\n",
    "\n",
    "\n",
    "#Train a person group\n",
    "def train(person_group_id):\n",
    "    url = 'persongroups/{}/train'.format(person_group_id)\n",
    "    \n",
    "    return util.request('POST', url)\n",
    "\n",
    "\n",
    "#Retrieve the training status of a person group\n",
    "def get_status(person_group_id):\n",
    "    url = 'persongroups/{}/training'.format(person_group_id)\n",
    "\n",
    "    return util.request('GET', url)"
   ]
  },
  {
   "cell_type": "code",
   "execution_count": 6,
   "metadata": {
    "collapsed": false
   },
   "outputs": [
    {
     "data": {
      "text/plain": [
       "{}"
      ]
     },
     "execution_count": 6,
     "metadata": {},
     "output_type": "execute_result"
    },
    {
     "name": "stdout",
     "output_type": "stream",
     "text": [
      "time: 998 ms\n"
     ]
    }
   ],
   "source": [
    "# creating a person group for both candidates\n",
    "Person_group_id = \"candidates\"\n",
    "\n",
    "create_group(Person_group_id, name = 'candidates')"
   ]
  },
  {
   "cell_type": "markdown",
   "metadata": {},
   "source": [
    "## Persons"
   ]
  },
  {
   "cell_type": "code",
   "execution_count": 7,
   "metadata": {
    "collapsed": false
   },
   "outputs": [
    {
     "name": "stdout",
     "output_type": "stream",
     "text": [
      "time: 47.1 ms\n"
     ]
    }
   ],
   "source": [
    "#Create a new person in a group\n",
    "def create_person(person_group_id, name, user_data=None):\n",
    "    \n",
    "    url = 'persongroups/{}/persons'.format(person_group_id)\n",
    "    json = {\n",
    "        'name': name,\n",
    "        'userData': user_data,\n",
    "    }\n",
    "\n",
    "    return util.request('POST', url, json=json)\n",
    "\n",
    "\n",
    "#List all persons in a group\n",
    "def list_persons(person_group_id):\n",
    "\n",
    "    url = 'persongroups/{}/persons'.format(person_group_id)\n",
    "\n",
    "    return util.request('GET', url)\n",
    "\n",
    "\n",
    "#Retrieve a person's information, including registered persisted faces, `name` and `user_data`.\n",
    "def get(person_group_id, person_id):\n",
    "\n",
    "    url = 'persongroups/{}/persons/{}'.format(person_group_id, person_id)\n",
    "\n",
    "    return util.request('GET', url)\n",
    "\n",
    "\n",
    "\n",
    "\n",
    "# Add a representative face to a person for identification.\n",
    "def add_face(image, person_group_id, person_id, user_data=None,\n",
    "             target_face=None):\n",
    "    \n",
    "    url = 'persongroups/{}/persons/{}/persistedFaces'.format(\n",
    "        person_group_id, person_id)\n",
    "    headers, data, json = util.parse_image(image)\n",
    "    params = {\n",
    "        'userData': user_data,\n",
    "        'targetFace': target_face,\n",
    "    }\n",
    "\n",
    "    return util.request('POST', url, headers=headers, params=params, json=json,\n",
    "                        data=data)\n",
    "\n",
    "\n",
    "#Retrieve information about a persisted face \n",
    "def get_face(person_group_id, person_id, persisted_face_id):\n",
    "\n",
    "    url = 'persongroups/{}/persons/{}/persistedFaces/{}'.format(\n",
    "        person_group_id, person_id, persisted_face_id)\n",
    "\n",
    "    return util.request('GET', url)\n",
    "\n",
    "\n",
    "#delete person\n",
    "def delete_person(person_group_id, person_id):\n",
    "\n",
    "    url = 'persongroups/{}/persons/{}'.format(person_group_id, person_id)\n",
    "\n",
    "    return util.request('DELETE', url)"
   ]
  },
  {
   "cell_type": "code",
   "execution_count": 18,
   "metadata": {
    "collapsed": false
   },
   "outputs": [
    {
     "name": "stdout",
     "output_type": "stream",
     "text": [
      "time: 479 ms\n"
     ]
    }
   ],
   "source": [
    "# Create persons for both candidates\n",
    "H_person = create_person(Person_group_id,\"hillary\")\n",
    "T_person= create_person(Person_group_id, \"trump\")\n",
    "\n",
    "# get person IDs\n",
    "H_personID = H_person['personId']\n",
    "T_personID = T_person['personId']"
   ]
  },
  {
   "cell_type": "code",
   "execution_count": 24,
   "metadata": {
    "collapsed": false
   },
   "outputs": [
    {
     "name": "stdout",
     "output_type": "stream",
     "text": [
      "time: 13.8 s\n"
     ]
    }
   ],
   "source": [
    "#Adding face to persons\n",
    "image_t = []\n",
    "for i in range (1,9):\n",
    "    image_t = \"https://s3-us-west-2.amazonaws.com/debateinemotion/sample/t/t%d.png\" % i\n",
    "    add_face(image_t, 'candidates', T_personID)\n",
    "    \n",
    "image_h = []\n",
    "for i in range (1,11):\n",
    "    image_h = \"https://s3-us-west-2.amazonaws.com/debateinemotion/sample/h/h%d.png\" % i\n",
    "    add_face(image_h, 'candidates', H_personID)"
   ]
  },
  {
   "cell_type": "code",
   "execution_count": 64,
   "metadata": {
    "collapsed": false
   },
   "outputs": [
    {
     "data": {
      "text/plain": [
       "{'name': 'trump',\n",
       " 'persistedFaceIds': ['088d03ca-90fd-4448-ab73-15cfb839e042',\n",
       "  '59d663ff-d48a-4ab8-bd15-a15518fa5beb',\n",
       "  '86118b0d-864b-4450-9b2c-e5698f035af7',\n",
       "  'b9ffa542-7967-4d4e-8e89-fbb62f45c251',\n",
       "  'cd3554c0-6554-4094-aff5-1621ac5c8f8b',\n",
       "  'dae45fa3-f09a-419d-9dc4-11a32da3e295',\n",
       "  'e253a94a-6f91-40d0-bdf2-7256333325b8',\n",
       "  'fd3e8ba1-d441-48e2-a971-ff7d38346f1c'],\n",
       " 'personId': 'fa7e98e2-fac5-4d9d-affd-ebf4bb12bbd2',\n",
       " 'userData': None}"
      ]
     },
     "execution_count": 64,
     "metadata": {},
     "output_type": "execute_result"
    },
    {
     "name": "stdout",
     "output_type": "stream",
     "text": [
      "time: 1.09 s\n"
     ]
    }
   ],
   "source": [
    "get('candidates', T_personID)"
   ]
  },
  {
   "cell_type": "code",
   "execution_count": 30,
   "metadata": {
    "collapsed": false
   },
   "outputs": [
    {
     "data": {
      "text/plain": [
       "{}"
      ]
     },
     "execution_count": 30,
     "metadata": {},
     "output_type": "execute_result"
    },
    {
     "name": "stdout",
     "output_type": "stream",
     "text": [
      "time: 1.08 s\n"
     ]
    }
   ],
   "source": [
    "## Train\n",
    "train('candidates')"
   ]
  },
  {
   "cell_type": "markdown",
   "metadata": {},
   "source": [
    "## Verify candidaites face"
   ]
  },
  {
   "cell_type": "code",
   "execution_count": 58,
   "metadata": {
    "collapsed": false
   },
   "outputs": [
    {
     "name": "stdout",
     "output_type": "stream",
     "text": [
      "time: 5.44 ms\n"
     ]
    }
   ],
   "source": [
    "def detect(image, face_id=True, landmarks=False, faceRectangle= False, attributes='gender'):\n",
    "    \n",
    "    url = 'detect'\n",
    "    headers, data, json = util.parse_image(image)\n",
    "    params = {\n",
    "        'returnFaceId': face_id and 'true' or 'false',\n",
    "        'returnFaceLandmarks': landmarks and 'true' or 'false',\n",
    "        'returnFaceAttributes': attributes,\n",
    "    }\n",
    "\n",
    "    return util.request('POST', url, headers=headers, params=params, json=json,\n",
    "                        data=data)"
   ]
  },
  {
   "cell_type": "code",
   "execution_count": 61,
   "metadata": {
    "collapsed": false
   },
   "outputs": [
    {
     "data": {
      "text/plain": [
       "[{'faceAttributes': {'gender': 'male'},\n",
       "  'faceId': 'ac856689-3314-4baf-93ba-7fa443c576a8',\n",
       "  'faceRectangle': {'height': 142, 'left': 103, 'top': 93, 'width': 142}}]"
      ]
     },
     "execution_count": 61,
     "metadata": {},
     "output_type": "execute_result"
    },
    {
     "name": "stdout",
     "output_type": "stream",
     "text": [
      "time: 1.03 s\n"
     ]
    }
   ],
   "source": [
    "detect('https://s3-us-west-2.amazonaws.com/debateinemotion/sample/t/t1.png')"
   ]
  },
  {
   "cell_type": "code",
   "execution_count": 67,
   "metadata": {
    "collapsed": false
   },
   "outputs": [
    {
     "name": "stdout",
     "output_type": "stream",
     "text": [
      "time: 6.42 ms\n"
     ]
    }
   ],
   "source": [
    "def verify(image, persistedFaceId = True, faceId = True, confidence = True):\n",
    "    \n",
    "    url = 'findsimilars'\n",
    "    headers, data, json = util.parse_image(image)\n",
    "    params = {\n",
    "        'returnPersistedFaceId': persistedFaceId and 'true' or 'false',\n",
    "        'returnFaceId': faceId,\n",
    "        'ReturnConfidence': confidence\n",
    "    }\n",
    "    return util.request('POST', url, headers=headers, params=params, json=json, data=data)"
   ]
  },
  {
   "cell_type": "code",
   "execution_count": 68,
   "metadata": {
    "collapsed": false
   },
   "outputs": [
    {
     "name": "stdout",
     "output_type": "stream",
     "text": [
      "status_code: 400\n",
      "response: {\"error\":{\"code\":\"BadArgument\",\"message\":\"Face ID is invalid.\"}}\n"
     ]
    },
    {
     "ename": "CognitiveFaceException",
     "evalue": "Error when calling Cognitive Face API:\n\tstatus_code: 400\n\tcode: BadArgument\n\tmessage: Face ID is invalid.\n",
     "output_type": "error",
     "traceback": [
      "\u001b[0;31m---------------------------------------------------------------------------\u001b[0m",
      "\u001b[0;31mCognitiveFaceException\u001b[0m                    Traceback (most recent call last)",
      "\u001b[0;32m<ipython-input-68-51128b6ef048>\u001b[0m in \u001b[0;36m<module>\u001b[0;34m()\u001b[0m\n\u001b[0;32m----> 1\u001b[0;31m \u001b[0mverify\u001b[0m\u001b[0;34m(\u001b[0m\u001b[0;34m'ac856689-3314-4baf-93ba-7fa443c576a8'\u001b[0m\u001b[0;34m)\u001b[0m\u001b[0;34m\u001b[0m\u001b[0m\n\u001b[0m",
      "\u001b[0;32m<ipython-input-67-8cfd1fe392f6>\u001b[0m in \u001b[0;36mverify\u001b[0;34m(image, persistedFaceId, faceId, confidence)\u001b[0m\n\u001b[1;32m      8\u001b[0m         \u001b[0;34m'ReturnConfidence'\u001b[0m\u001b[0;34m:\u001b[0m \u001b[0mconfidence\u001b[0m\u001b[0;34m\u001b[0m\u001b[0m\n\u001b[1;32m      9\u001b[0m     }\n\u001b[0;32m---> 10\u001b[0;31m     \u001b[0;32mreturn\u001b[0m \u001b[0mutil\u001b[0m\u001b[0;34m.\u001b[0m\u001b[0mrequest\u001b[0m\u001b[0;34m(\u001b[0m\u001b[0;34m'POST'\u001b[0m\u001b[0;34m,\u001b[0m \u001b[0murl\u001b[0m\u001b[0;34m,\u001b[0m \u001b[0mheaders\u001b[0m\u001b[0;34m=\u001b[0m\u001b[0mheaders\u001b[0m\u001b[0;34m,\u001b[0m \u001b[0mparams\u001b[0m\u001b[0;34m=\u001b[0m\u001b[0mparams\u001b[0m\u001b[0;34m,\u001b[0m \u001b[0mjson\u001b[0m\u001b[0;34m=\u001b[0m\u001b[0mjson\u001b[0m\u001b[0;34m,\u001b[0m \u001b[0mdata\u001b[0m\u001b[0;34m=\u001b[0m\u001b[0mdata\u001b[0m\u001b[0;34m)\u001b[0m\u001b[0;34m\u001b[0m\u001b[0m\n\u001b[0m",
      "\u001b[0;32m/Users/Amiros/anaconda/lib/python3.5/site-packages/cognitive_face/util.py\u001b[0m in \u001b[0;36mrequest\u001b[0;34m(method, url, data, json, headers, params)\u001b[0m\n\u001b[1;32m     82\u001b[0m             \u001b[0mresponse\u001b[0m\u001b[0;34m.\u001b[0m\u001b[0mstatus_code\u001b[0m\u001b[0;34m,\u001b[0m\u001b[0;34m\u001b[0m\u001b[0m\n\u001b[1;32m     83\u001b[0m             \u001b[0merror_msg\u001b[0m\u001b[0;34m.\u001b[0m\u001b[0mget\u001b[0m\u001b[0;34m(\u001b[0m\u001b[0;34m'code'\u001b[0m\u001b[0;34m)\u001b[0m\u001b[0;34m,\u001b[0m\u001b[0;34m\u001b[0m\u001b[0m\n\u001b[0;32m---> 84\u001b[0;31m             error_msg.get('message'))\n\u001b[0m\u001b[1;32m     85\u001b[0m \u001b[0;34m\u001b[0m\u001b[0m\n\u001b[1;32m     86\u001b[0m     \u001b[0;31m# Prevent `reponse.json()` complains about empty response.\u001b[0m\u001b[0;34m\u001b[0m\u001b[0;34m\u001b[0m\u001b[0m\n",
      "\u001b[0;31mCognitiveFaceException\u001b[0m: Error when calling Cognitive Face API:\n\tstatus_code: 400\n\tcode: BadArgument\n\tmessage: Face ID is invalid.\n"
     ]
    },
    {
     "name": "stdout",
     "output_type": "stream",
     "text": [
      "time: 643 ms\n"
     ]
    }
   ],
   "source": [
    "verify('ac856689-3314-4baf-93ba-7fa443c576a8')"
   ]
  },
  {
   "cell_type": "code",
   "execution_count": null,
   "metadata": {
    "collapsed": true
   },
   "outputs": [],
   "source": []
  }
 ],
 "metadata": {
  "kernelspec": {
   "display_name": "Python 3",
   "language": "python",
   "name": "python3"
  },
  "language_info": {
   "codemirror_mode": {
    "name": "ipython",
    "version": 3
   },
   "file_extension": ".py",
   "mimetype": "text/x-python",
   "name": "python",
   "nbconvert_exporter": "python",
   "pygments_lexer": "ipython3",
   "version": "3.5.2"
  }
 },
 "nbformat": 4,
 "nbformat_minor": 0
}
