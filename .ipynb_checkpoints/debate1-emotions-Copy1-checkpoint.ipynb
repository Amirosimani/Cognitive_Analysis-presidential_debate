{
 "cells": [
  {
   "cell_type": "code",
   "execution_count": 2,
   "metadata": {
    "collapsed": false
   },
   "outputs": [],
   "source": [
    "import http.client, urllib, base64, requests\n",
    "import cognitive_face as CF \n",
    "from cognitive_face import util\n",
    "import time"
   ]
  },
  {
   "cell_type": "code",
   "execution_count": 3,
   "metadata": {
    "collapsed": false
   },
   "outputs": [
    {
     "name": "stdout",
     "output_type": "stream",
     "text": [
      "Installed autotime.py. To use it, type:\n",
      "  %load_ext autotime\n"
     ]
    },
    {
     "name": "stderr",
     "output_type": "stream",
     "text": [
      "/Users/Amiros/anaconda/lib/python3.5/site-packages/IPython/core/magics/extension.py:47: UserWarning: %install_ext` is deprecated, please distribute your extension as a python package.\n",
      "  \"as a python package.\", UserWarning)\n"
     ]
    }
   ],
   "source": [
    "%install_ext https://raw.github.com/cpcloud/ipython-autotime/master/autotime.py\n",
    "%load_ext autotime"
   ]
  },
  {
   "cell_type": "code",
   "execution_count": 4,
   "metadata": {
    "collapsed": false
   },
   "outputs": [
    {
     "name": "stdout",
     "output_type": "stream",
     "text": [
      "time: 3.25 ms\n"
     ]
    }
   ],
   "source": [
    "#Emotion Analysis parameters\n",
    "_url = 'https://api.projectoxford.ai/emotion/v1.0/recognize'\n",
    "_key = '183aea69820e4dfda0176db816fc1f72' #Here you have to paste your primary key\n",
    "_maxNumRetries = 5\n",
    "\n",
    "#Face detection parametrs\n",
    "CF.Key.set('d78211e12bba41a991382ade5d68745b') #set the key"
   ]
  },
  {
   "cell_type": "code",
   "execution_count": 5,
   "metadata": {
    "collapsed": false
   },
   "outputs": [
    {
     "name": "stdout",
     "output_type": "stream",
     "text": [
      "time: 49.6 ms\n"
     ]
    }
   ],
   "source": [
    "# Image path\n",
    "urlImage= ''\n",
    "\n",
    "# Emtional Anlaysis function\n",
    "def processRequest( json, data, headers, params ):\n",
    "\n",
    "    retries = 0\n",
    "    result = None\n",
    "\n",
    "    while True:\n",
    "\n",
    "        response = requests.request( 'post', _url, json = json, data = data, headers = headers, params = params )\n",
    "\n",
    "        if response.status_code == 429: \n",
    "\n",
    "            print( \"Message: %s\" % ( response.json()['error']['message'] ) )\n",
    "\n",
    "            if retries <= _maxNumRetries: \n",
    "                time.sleep(1) \n",
    "                retries += 1\n",
    "                continue\n",
    "            else: \n",
    "                print( 'Error: failed after retrying!' )\n",
    "                break\n",
    "\n",
    "        elif response.status_code == 200 or response.status_code == 201:\n",
    "\n",
    "            if 'content-length' in response.headers and int(response.headers['content-length']) == 0: \n",
    "                result = None \n",
    "            elif 'content-type' in response.headers and isinstance(response.headers['content-type'], str): \n",
    "                if 'application/json' in response.headers['content-type'].lower(): \n",
    "                    result = response.json() if response.content else None \n",
    "                elif 'image' in response.headers['content-type'].lower(): \n",
    "                    result = response.content\n",
    "        else:\n",
    "            print( \"Error code: %d\" % ( response.status_code ) )\n",
    "            print( \"Message: %s\" % ( response.json()['error']['message'] ) )\n",
    "\n",
    "        break\n",
    "        \n",
    "    return result\n",
    "\n",
    "\n",
    "headers = dict()\n",
    "headers['Ocp-Apim-Subscription-Key'] = _key\n",
    "headers['Content-Type'] = 'application/json' \n",
    "\n",
    "json = { 'url': urlImage } \n",
    "data = None\n",
    "params = None"
   ]
  },
  {
   "cell_type": "code",
   "execution_count": 6,
   "metadata": {
    "collapsed": false
   },
   "outputs": [
    {
     "name": "stdout",
     "output_type": "stream",
     "text": [
      "time: 6.65 ms\n"
     ]
    }
   ],
   "source": [
    "# Face detect function\n",
    "def detect(image, face_id=True, landmarks=False, faceRectangle= False, attributes='gender'):\n",
    "    \n",
    "    url = 'detect'\n",
    "    headers, data, json = util.parse_image(image)\n",
    "    params = {\n",
    "        'returnFaceId': face_id and 'true',\n",
    "        'returnFaceLandmarks': landmarks and 'false',\n",
    "        'returnFaceAttributes': attributes,\n",
    "    }\n",
    "\n",
    "    return util.request('POST', url, headers=headers, params=params, json=json,\n",
    "                        data=data)"
   ]
  },
  {
   "cell_type": "code",
   "execution_count": 6,
   "metadata": {
    "collapsed": false
   },
   "outputs": [
    {
     "name": "stdout",
     "output_type": "stream",
     "text": [
      "time: 4.94 ms\n"
     ]
    }
   ],
   "source": [
    "#Get all the frames from S3\n",
    "#start with 355\n",
    "url_list = []\n",
    "for i in range(355,5920,5):\n",
    "    url = \"https://s3-us-west-2.amazonaws.com/debateinemotion/debate1/frame%d.jpg\" % i\n",
    "    url_list.append(url)"
   ]
  },
  {
   "cell_type": "code",
   "execution_count": 12,
   "metadata": {
    "collapsed": false,
    "scrolled": true
   },
   "outputs": [
    {
     "name": "stdout",
     "output_type": "stream",
     "text": [
      "time: 1h 41min 34s\n"
     ]
    }
   ],
   "source": [
    "# Face Detection & Emotioin Analysis \n",
    "emotions = {}\n",
    "frame_index = {}\n",
    "count = 355\n",
    "#355\n",
    "\n",
    "for single_image in url_list:\n",
    "\n",
    "    json = { 'url': single_image } \n",
    "    emotions[count] = detect(single_image)\n",
    "    processed = processRequest(json, data, headers, params)\n",
    "    \n",
    "    try:\n",
    "        emotions[count].append(processed[0])  \n",
    "    except:\n",
    "        pass \n",
    "\n",
    "    if count < 5350:\n",
    "        count += 5\n",
    "    \n",
    "    time.sleep(3)"
   ]
  },
  {
   "cell_type": "code",
   "execution_count": 14,
   "metadata": {
    "collapsed": false
   },
   "outputs": [
    {
     "name": "stdout",
     "output_type": "stream",
     "text": [
      "time: 192 ms\n"
     ]
    }
   ],
   "source": [
    "# Save the result as Json\n",
    "import json\n",
    "with open('debate1_full.json', 'w') as fp:\n",
    "    json.dump(emotions, fp, sort_keys=True)"
   ]
  },
  {
   "cell_type": "code",
   "execution_count": 13,
   "metadata": {
    "collapsed": false
   },
   "outputs": [
    {
     "name": "stdout",
     "output_type": "stream",
     "text": [
      "time: 2.07 ms\n"
     ]
    }
   ],
   "source": [
    "url_list = []\n",
    "for i in range(950,1050,5):\n",
    "    url = \"https://s3-us-west-2.amazonaws.com/debateinemotion/debate1/frame%d.jpg\" % i\n",
    "    url_list.append(url)"
   ]
  },
  {
   "cell_type": "code",
   "execution_count": 124,
   "metadata": {
    "collapsed": false
   },
   "outputs": [
    {
     "ename": "KeyboardInterrupt",
     "evalue": "",
     "output_type": "error",
     "traceback": [
      "\u001b[0;31m---------------------------------------------------------------------------\u001b[0m",
      "\u001b[0;31mKeyboardInterrupt\u001b[0m                         Traceback (most recent call last)",
      "\u001b[0;32m<ipython-input-124-5bedfeda4eb8>\u001b[0m in \u001b[0;36m<module>\u001b[0;34m()\u001b[0m\n\u001b[1;32m     21\u001b[0m     \u001b[0mcount\u001b[0m \u001b[0;34m+=\u001b[0m \u001b[0;36m5\u001b[0m\u001b[0;34m\u001b[0m\u001b[0m\n\u001b[1;32m     22\u001b[0m \u001b[0;34m\u001b[0m\u001b[0m\n\u001b[0;32m---> 23\u001b[0;31m     \u001b[0mtime\u001b[0m\u001b[0;34m.\u001b[0m\u001b[0msleep\u001b[0m\u001b[0;34m(\u001b[0m\u001b[0;36m3\u001b[0m\u001b[0;34m)\u001b[0m\u001b[0;34m\u001b[0m\u001b[0m\n\u001b[0m",
      "\u001b[0;31mKeyboardInterrupt\u001b[0m: "
     ]
    },
    {
     "name": "stdout",
     "output_type": "stream",
     "text": [
      "time: 17.1 s\n"
     ]
    }
   ],
   "source": [
    "# Face Detection & Emotioin Analysis - UPDATED\n",
    "processed = {}\n",
    "face_detection = {}\n",
    "count = 950\n",
    "#355\n",
    "\n",
    "for single_image in url_list:\n",
    " \n",
    "    face_detection[count] = detect(single_image)\n",
    "    \n",
    "    json = { 'url': single_image } \n",
    "    processed[count] = processRequest(json, data, headers, params)    \n",
    "    \n",
    "    if face_detection[count][0]['faceRectangle'] == processed[count][0]['faceRectangle']:\n",
    "        face_detection[count][0].update(processed[count][0])\n",
    "        face_detection[count][1].update(processed[count][1])\n",
    "    if  face_detection[count][0]['faceRectangle'] == processed[count][1]['faceRectangle']:\n",
    "        face_detection[count][0].update(processed[count][1])\n",
    "        face_detection[count][1].update(processed[count][0])\n",
    "       \n",
    "    count += 5\n",
    "    \n",
    "    time.sleep(3)"
   ]
  },
  {
   "cell_type": "code",
   "execution_count": 125,
   "metadata": {
    "collapsed": false
   },
   "outputs": [
    {
     "data": {
      "text/plain": [
       "{950: [{'faceAttributes': {'gender': 'male'},\n",
       "   'faceId': '3913fbd5-da72-49a3-8d07-8a66e7270563',\n",
       "   'faceRectangle': {'height': 186, 'left': 288, 'top': 133, 'width': 186},\n",
       "   'scores': {'anger': 0.07141517,\n",
       "    'contempt': 0.009388435,\n",
       "    'disgust': 0.005946371,\n",
       "    'fear': 0.000546827447,\n",
       "    'happiness': 2.630624e-06,\n",
       "    'neutral': 0.5582893,\n",
       "    'sadness': 0.353197962,\n",
       "    'surprise': 0.00121334242}},\n",
       "  {'faceAttributes': {'gender': 'female'},\n",
       "   'faceId': 'abe7f74a-9ecd-48d1-958b-e0193d923ad8',\n",
       "   'faceRectangle': {'height': 180, 'left': 847, 'top': 167, 'width': 180},\n",
       "   'scores': {'anger': 0.007576521,\n",
       "    'contempt': 0.0154607315,\n",
       "    'disgust': 0.013490878,\n",
       "    'fear': 0.000261297362,\n",
       "    'happiness': 0.1765197,\n",
       "    'neutral': 0.7668025,\n",
       "    'sadness': 0.003829249,\n",
       "    'surprise': 0.0160591323}}],\n",
       " 955: [{'faceAttributes': {'gender': 'female'},\n",
       "   'faceId': '530c93bc-e54d-4fd1-8975-05ed0bff78a9',\n",
       "   'faceRectangle': {'height': 193, 'left': 830, 'top': 181, 'width': 193},\n",
       "   'scores': {'anger': 0.00662719551,\n",
       "    'contempt': 0.0119327074,\n",
       "    'disgust': 0.00185220118,\n",
       "    'fear': 4.109221e-05,\n",
       "    'happiness': 0.019093778,\n",
       "    'neutral': 0.9565933,\n",
       "    'sadness': 0.00175291987,\n",
       "    'surprise': 0.00210681045}},\n",
       "  {'faceAttributes': {'gender': 'male'},\n",
       "   'faceId': 'a9e751bc-ce88-4605-8fd8-1c11d287ed0f',\n",
       "   'faceRectangle': {'height': 181, 'left': 339, 'top': 136, 'width': 181},\n",
       "   'scores': {'anger': 0.07502345,\n",
       "    'contempt': 0.0028158098,\n",
       "    'disgust': 0.0014723757,\n",
       "    'fear': 3.21809021e-05,\n",
       "    'happiness': 1.856808e-06,\n",
       "    'neutral': 0.8711205,\n",
       "    'sadness': 0.0494822673,\n",
       "    'surprise': 5.154572e-05}}],\n",
       " 960: [{'faceAttributes': {'gender': 'female'},\n",
       "   'faceId': '7d247b6c-0ec4-4c5a-810f-9f80ed3be7f1',\n",
       "   'faceRectangle': {'height': 190, 'left': 844, 'top': 153, 'width': 190},\n",
       "   'scores': {'anger': 0.008394858,\n",
       "    'contempt': 0.008070669,\n",
       "    'disgust': 0.00490168575,\n",
       "    'fear': 0.00227642152,\n",
       "    'happiness': 0.006680096,\n",
       "    'neutral': 0.923220456,\n",
       "    'sadness': 0.0181238856,\n",
       "    'surprise': 0.0283319168}},\n",
       "  {'faceAttributes': {'gender': 'male'},\n",
       "   'faceId': '7b8934a9-3af6-4d7b-b23a-d27c5a444034',\n",
       "   'faceRectangle': {'height': 173, 'left': 296, 'top': 123, 'width': 173},\n",
       "   'scores': {'anger': 0.0291208532,\n",
       "    'contempt': 0.005234857,\n",
       "    'disgust': 0.00170920964,\n",
       "    'fear': 2.25171789e-05,\n",
       "    'happiness': 1.1452099e-05,\n",
       "    'neutral': 0.604176939,\n",
       "    'sadness': 0.3596918,\n",
       "    'surprise': 3.24145949e-05}}],\n",
       " 965: [{'faceAttributes': {'gender': 'male'},\n",
       "   'faceId': 'dd5f3c65-15f8-4f83-a972-726f64089bf7',\n",
       "   'faceRectangle': {'height': 189, 'left': 276, 'top': 151, 'width': 189},\n",
       "   'scores': {'anger': 0.305367857,\n",
       "    'contempt': 0.0157433152,\n",
       "    'disgust': 0.0160036553,\n",
       "    'fear': 0.00518096052,\n",
       "    'happiness': 5.32718468e-06,\n",
       "    'neutral': 0.2058744,\n",
       "    'sadness': 0.448620737,\n",
       "    'surprise': 0.0032037606}},\n",
       "  {'faceAttributes': {'gender': 'female'},\n",
       "   'faceId': 'c8e39f1e-5aa8-4bed-91cd-e908907399c6',\n",
       "   'faceRectangle': {'height': 185, 'left': 848, 'top': 161, 'width': 185},\n",
       "   'scores': {'anger': 0.00550521957,\n",
       "    'contempt': 0.0160829257,\n",
       "    'disgust': 0.008791847,\n",
       "    'fear': 0.000437906943,\n",
       "    'happiness': 0.0463540666,\n",
       "    'neutral': 0.866960347,\n",
       "    'sadness': 0.0178151857,\n",
       "    'surprise': 0.03805251}}]}"
      ]
     },
     "execution_count": 125,
     "metadata": {},
     "output_type": "execute_result"
    },
    {
     "name": "stdout",
     "output_type": "stream",
     "text": [
      "time: 11 ms\n"
     ]
    }
   ],
   "source": [
    "face_detection"
   ]
  },
  {
   "cell_type": "code",
   "execution_count": 122,
   "metadata": {
    "collapsed": false
   },
   "outputs": [
    {
     "name": "stdout",
     "output_type": "stream",
     "text": [
      "time: 8.18 ms\n"
     ]
    }
   ],
   "source": [
    "for i in range(950,960,5):\n",
    "    if face_detection[i][0]['faceRectangle'] == processed[i][0]['faceRectangle']:\n",
    "        face_detection[i][0].update(processed[i][0])\n",
    "        face_detection[i][1].update(processed[i][1])\n",
    "    if  face_detection[i][0]['faceRectangle'] == processed[i][1]['faceRectangle']:\n",
    "        face_detection[i][0].update(processed[i][1])\n",
    "        face_detection[i][1].update(processed[i][0])"
   ]
  },
  {
   "cell_type": "code",
   "execution_count": 123,
   "metadata": {
    "collapsed": false
   },
   "outputs": [
    {
     "data": {
      "text/plain": [
       "{950: [{'faceAttributes': {'gender': 'male'},\n",
       "   'faceId': '3913fbd5-da72-49a3-8d07-8a66e7270563',\n",
       "   'faceRectangle': {'height': 186, 'left': 288, 'top': 133, 'width': 186},\n",
       "   'scores': {'anger': 0.07141517,\n",
       "    'contempt': 0.009388435,\n",
       "    'disgust': 0.005946371,\n",
       "    'fear': 0.000546827447,\n",
       "    'happiness': 2.630624e-06,\n",
       "    'neutral': 0.5582893,\n",
       "    'sadness': 0.353197962,\n",
       "    'surprise': 0.00121334242}},\n",
       "  {'faceAttributes': {'gender': 'female'},\n",
       "   'faceId': 'abe7f74a-9ecd-48d1-958b-e0193d923ad8',\n",
       "   'faceRectangle': {'height': 180, 'left': 847, 'top': 167, 'width': 180},\n",
       "   'scores': {'anger': 0.007576521,\n",
       "    'contempt': 0.0154607315,\n",
       "    'disgust': 0.013490878,\n",
       "    'fear': 0.000261297362,\n",
       "    'happiness': 0.1765197,\n",
       "    'neutral': 0.7668025,\n",
       "    'sadness': 0.003829249,\n",
       "    'surprise': 0.0160591323}}],\n",
       " 955: [{'faceAttributes': {'gender': 'female'},\n",
       "   'faceId': '530c93bc-e54d-4fd1-8975-05ed0bff78a9',\n",
       "   'faceRectangle': {'height': 193, 'left': 830, 'top': 181, 'width': 193},\n",
       "   'scores': {'anger': 0.00662719551,\n",
       "    'contempt': 0.0119327074,\n",
       "    'disgust': 0.00185220118,\n",
       "    'fear': 4.109221e-05,\n",
       "    'happiness': 0.019093778,\n",
       "    'neutral': 0.9565933,\n",
       "    'sadness': 0.00175291987,\n",
       "    'surprise': 0.00210681045}},\n",
       "  {'faceAttributes': {'gender': 'male'},\n",
       "   'faceId': 'a9e751bc-ce88-4605-8fd8-1c11d287ed0f',\n",
       "   'faceRectangle': {'height': 181, 'left': 339, 'top': 136, 'width': 181},\n",
       "   'scores': {'anger': 0.07502345,\n",
       "    'contempt': 0.0028158098,\n",
       "    'disgust': 0.0014723757,\n",
       "    'fear': 3.21809021e-05,\n",
       "    'happiness': 1.856808e-06,\n",
       "    'neutral': 0.8711205,\n",
       "    'sadness': 0.0494822673,\n",
       "    'surprise': 5.154572e-05}}]}"
      ]
     },
     "execution_count": 123,
     "metadata": {},
     "output_type": "execute_result"
    },
    {
     "name": "stdout",
     "output_type": "stream",
     "text": [
      "time: 5.9 ms\n"
     ]
    }
   ],
   "source": [
    "face_detection"
   ]
  },
  {
   "cell_type": "code",
   "execution_count": null,
   "metadata": {
    "collapsed": true
   },
   "outputs": [],
   "source": []
  }
 ],
 "metadata": {
  "kernelspec": {
   "display_name": "Python 3",
   "language": "python",
   "name": "python3"
  },
  "language_info": {
   "codemirror_mode": {
    "name": "ipython",
    "version": 3
   },
   "file_extension": ".py",
   "mimetype": "text/x-python",
   "name": "python",
   "nbconvert_exporter": "python",
   "pygments_lexer": "ipython3",
   "version": "3.5.2"
  }
 },
 "nbformat": 4,
 "nbformat_minor": 0
}
